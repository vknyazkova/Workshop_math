{
 "cells": [
  {
   "cell_type": "code",
   "execution_count": null,
   "id": "acd255b2",
   "metadata": {},
   "outputs": [],
   "source": [
    "from database import ParserDBHandler\n",
    "from xml2database import XML2Database"
   ]
  },
  {
   "cell_type": "code",
   "execution_count": null,
   "id": "f6d1651a",
   "metadata": {},
   "outputs": [],
   "source": [
    "from pathlib import Path"
   ]
  },
  {
   "cell_type": "code",
   "execution_count": null,
   "id": "935bf40e",
   "metadata": {},
   "outputs": [],
   "source": [
    "data_folder = Path('../data').resolve()\n",
    "db_path = Path('../website/math_corpus_database.db').resolve()"
   ]
  },
  {
   "cell_type": "code",
   "execution_count": null,
   "id": "e17d370c",
   "metadata": {},
   "outputs": [],
   "source": [
    "filename = 'Производная.Начало.xml'"
   ]
  },
  {
   "cell_type": "code",
   "execution_count": null,
   "id": "a97ef2cc",
   "metadata": {},
   "outputs": [],
   "source": [
    "xml_filepath = Path(data_folder, filename)"
   ]
  },
  {
   "cell_type": "code",
   "execution_count": null,
   "id": "7c0109db",
   "metadata": {},
   "outputs": [],
   "source": [
    "xml_to_db = XML2Database(xml_filepath, db_path)"
   ]
  },
  {
   "cell_type": "code",
   "execution_count": null,
   "id": "0c582b28",
   "metadata": {},
   "outputs": [],
   "source": [
    "xml_to_db.extract_sentences()"
   ]
  },
  {
   "cell_type": "code",
   "execution_count": null,
   "id": "5e6e42f3",
   "metadata": {},
   "outputs": [],
   "source": [
    "# xml_to_db.extract_math_annotation()"
   ]
  },
  {
   "cell_type": "code",
   "execution_count": null,
   "id": "3c8c9870",
   "metadata": {},
   "outputs": [],
   "source": [
    "# функция для красивого печатания\n",
    "def bolded_print(sent_string, seg_span):\n",
    "    start, end = seg_span\n",
    "    print(sent_string[:start] + '\\033[1m' + sent_string[start:end] + '\\033[0m' + sent_string[end:])"
   ]
  },
  {
   "cell_type": "markdown",
   "id": "b3b645ba",
   "metadata": {},
   "source": [
    "Можно поменять статус текста на нужный (при добавлении предложений, автоматически вытавляется статус 2):\n",
    "\n",
    "1.\tне добавлен\n",
    "2.\tдобавлен, но нет мат. разметки\n",
    "3.\tчастично размечен\n",
    "4.\tполностью размечен"
   ]
  },
  {
   "cell_type": "code",
   "execution_count": null,
   "id": "99c091de",
   "metadata": {},
   "outputs": [],
   "source": [
    "db = ParserDBHandler(db_path)\n",
    "db.change_text_status(xml_to_db.text_id, 3)"
   ]
  },
  {
   "cell_type": "code",
   "execution_count": null,
   "id": "5338b2fa",
   "metadata": {},
   "outputs": [],
   "source": [
    "db.add_youtube_link(xml_to_db.text_id, 'https://www.youtube.com/watch?v=sSnyhOXFLqc')"
   ]
  }
 ],
 "metadata": {
  "kernelspec": {
   "display_name": "Python 3 (ipykernel)",
   "language": "python",
   "name": "python3"
  },
  "language_info": {
   "codemirror_mode": {
    "name": "ipython",
    "version": 3
   },
   "file_extension": ".py",
   "mimetype": "text/x-python",
   "name": "python",
   "nbconvert_exporter": "python",
   "pygments_lexer": "ipython3",
   "version": "3.9.12"
  }
 },
 "nbformat": 4,
 "nbformat_minor": 5
}
