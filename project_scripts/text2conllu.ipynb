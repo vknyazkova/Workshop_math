{
 "cells": [
  {
   "cell_type": "code",
   "execution_count": 1,
   "id": "a80b0750",
   "metadata": {},
   "outputs": [],
   "source": [
    "from pathlib import Path"
   ]
  },
  {
   "cell_type": "code",
   "execution_count": 2,
   "id": "f27f6fb9",
   "metadata": {},
   "outputs": [],
   "source": [
    "import spacy"
   ]
  },
  {
   "cell_type": "code",
   "execution_count": 15,
   "id": "6eca54b2",
   "metadata": {},
   "outputs": [
    {
     "name": "stdout",
     "output_type": "stream",
     "text": [
      "Defaulting to user installation because normal site-packages is not writeable\n",
      "Collecting spacy-conll\n",
      "  Downloading spacy_conll-3.3.0-py3-none-any.whl (20 kB)\n",
      "Requirement already satisfied: spacy>=3.0.1 in c:\\users\\kra$0t04ka\\appdata\\roaming\\python\\python39\\site-packages (from spacy-conll) (3.5.0)\n",
      "Requirement already satisfied: smart-open<7.0.0,>=5.2.1 in c:\\users\\kra$0t04ka\\appdata\\roaming\\python\\python39\\site-packages (from spacy>=3.0.1->spacy-conll) (5.2.1)\n",
      "Requirement already satisfied: wasabi<1.2.0,>=0.9.1 in c:\\users\\kra$0t04ka\\appdata\\roaming\\python\\python39\\site-packages (from spacy>=3.0.1->spacy-conll) (0.10.1)\n",
      "Requirement already satisfied: requests<3.0.0,>=2.13.0 in c:\\program files\\conda\\lib\\site-packages (from spacy>=3.0.1->spacy-conll) (2.27.1)\n",
      "Requirement already satisfied: packaging>=20.0 in c:\\program files\\conda\\lib\\site-packages (from spacy>=3.0.1->spacy-conll) (21.3)\n",
      "Requirement already satisfied: pydantic!=1.8,!=1.8.1,<1.11.0,>=1.7.4 in c:\\users\\kra$0t04ka\\appdata\\roaming\\python\\python39\\site-packages (from spacy>=3.0.1->spacy-conll) (1.9.2)\n",
      "Requirement already satisfied: spacy-loggers<2.0.0,>=1.0.0 in c:\\users\\kra$0t04ka\\appdata\\roaming\\python\\python39\\site-packages (from spacy>=3.0.1->spacy-conll) (1.0.3)\n",
      "Requirement already satisfied: cymem<2.1.0,>=2.0.2 in c:\\users\\kra$0t04ka\\appdata\\roaming\\python\\python39\\site-packages (from spacy>=3.0.1->spacy-conll) (2.0.6)\n",
      "Requirement already satisfied: catalogue<2.1.0,>=2.0.6 in c:\\users\\kra$0t04ka\\appdata\\roaming\\python\\python39\\site-packages (from spacy>=3.0.1->spacy-conll) (2.0.8)\n",
      "Requirement already satisfied: jinja2 in c:\\program files\\conda\\lib\\site-packages (from spacy>=3.0.1->spacy-conll) (2.11.3)\n",
      "Requirement already satisfied: numpy>=1.15.0 in c:\\program files\\conda\\lib\\site-packages (from spacy>=3.0.1->spacy-conll) (1.21.5)\n",
      "Requirement already satisfied: pathy>=0.10.0 in c:\\users\\kra$0t04ka\\appdata\\roaming\\python\\python39\\site-packages (from spacy>=3.0.1->spacy-conll) (0.10.1)\n",
      "Requirement already satisfied: thinc<8.2.0,>=8.1.0 in c:\\users\\kra$0t04ka\\appdata\\roaming\\python\\python39\\site-packages (from spacy>=3.0.1->spacy-conll) (8.1.3)\n",
      "Requirement already satisfied: tqdm<5.0.0,>=4.38.0 in c:\\program files\\conda\\lib\\site-packages (from spacy>=3.0.1->spacy-conll) (4.64.0)\n",
      "Requirement already satisfied: setuptools in c:\\users\\kra$0t04ka\\appdata\\roaming\\python\\python39\\site-packages (from spacy>=3.0.1->spacy-conll) (65.5.0)\n",
      "Requirement already satisfied: srsly<3.0.0,>=2.4.3 in c:\\users\\kra$0t04ka\\appdata\\roaming\\python\\python39\\site-packages (from spacy>=3.0.1->spacy-conll) (2.4.4)\n",
      "Requirement already satisfied: preshed<3.1.0,>=3.0.2 in c:\\users\\kra$0t04ka\\appdata\\roaming\\python\\python39\\site-packages (from spacy>=3.0.1->spacy-conll) (3.0.7)\n",
      "Requirement already satisfied: spacy-legacy<3.1.0,>=3.0.11 in c:\\users\\kra$0t04ka\\appdata\\roaming\\python\\python39\\site-packages (from spacy>=3.0.1->spacy-conll) (3.0.11)\n",
      "Requirement already satisfied: murmurhash<1.1.0,>=0.28.0 in c:\\users\\kra$0t04ka\\appdata\\roaming\\python\\python39\\site-packages (from spacy>=3.0.1->spacy-conll) (1.0.8)\n",
      "Requirement already satisfied: langcodes<4.0.0,>=3.2.0 in c:\\users\\kra$0t04ka\\appdata\\roaming\\python\\python39\\site-packages (from spacy>=3.0.1->spacy-conll) (3.3.0)\n",
      "Requirement already satisfied: typer<0.8.0,>=0.3.0 in c:\\users\\kra$0t04ka\\appdata\\roaming\\python\\python39\\site-packages (from spacy>=3.0.1->spacy-conll) (0.4.2)\n",
      "Requirement already satisfied: pyparsing!=3.0.5,>=2.0.2 in c:\\program files\\conda\\lib\\site-packages (from packaging>=20.0->spacy>=3.0.1->spacy-conll) (3.0.4)\n",
      "Requirement already satisfied: typing-extensions>=3.7.4.3 in c:\\program files\\conda\\lib\\site-packages (from pydantic!=1.8,!=1.8.1,<1.11.0,>=1.7.4->spacy>=3.0.1->spacy-conll) (4.1.1)\n",
      "Requirement already satisfied: urllib3<1.27,>=1.21.1 in c:\\users\\kra$0t04ka\\appdata\\roaming\\python\\python39\\site-packages (from requests<3.0.0,>=2.13.0->spacy>=3.0.1->spacy-conll) (1.26.12)\n",
      "Requirement already satisfied: idna<4,>=2.5 in c:\\program files\\conda\\lib\\site-packages (from requests<3.0.0,>=2.13.0->spacy>=3.0.1->spacy-conll) (3.3)\n",
      "Requirement already satisfied: charset-normalizer~=2.0.0 in c:\\program files\\conda\\lib\\site-packages (from requests<3.0.0,>=2.13.0->spacy>=3.0.1->spacy-conll) (2.0.4)\n",
      "Requirement already satisfied: certifi>=2017.4.17 in c:\\program files\\conda\\lib\\site-packages (from requests<3.0.0,>=2.13.0->spacy>=3.0.1->spacy-conll) (2021.10.8)\n",
      "Requirement already satisfied: confection<1.0.0,>=0.0.1 in c:\\users\\kra$0t04ka\\appdata\\roaming\\python\\python39\\site-packages (from thinc<8.2.0,>=8.1.0->spacy>=3.0.1->spacy-conll) (0.0.3)\n",
      "Requirement already satisfied: blis<0.8.0,>=0.7.8 in c:\\users\\kra$0t04ka\\appdata\\roaming\\python\\python39\\site-packages (from thinc<8.2.0,>=8.1.0->spacy>=3.0.1->spacy-conll) (0.7.8)\n",
      "Requirement already satisfied: colorama in c:\\program files\\conda\\lib\\site-packages (from tqdm<5.0.0,>=4.38.0->spacy>=3.0.1->spacy-conll) (0.4.4)\n",
      "Requirement already satisfied: click<9.0.0,>=7.1.1 in c:\\program files\\conda\\lib\\site-packages (from typer<0.8.0,>=0.3.0->spacy>=3.0.1->spacy-conll) (8.0.4)\n",
      "Requirement already satisfied: MarkupSafe>=0.23 in c:\\program files\\conda\\lib\\site-packages (from jinja2->spacy>=3.0.1->spacy-conll) (2.0.1)\n",
      "Installing collected packages: spacy-conll\n",
      "Successfully installed spacy-conll-3.3.0\n"
     ]
    },
    {
     "name": "stderr",
     "output_type": "stream",
     "text": [
      "WARNING: Retrying (Retry(total=4, connect=None, read=None, redirect=None, status=None)) after connection broken by 'ReadTimeoutError(\"HTTPSConnectionPool(host='pypi.org', port=443): Read timed out. (read timeout=15)\")': /simple/spacy-conll/\n",
      "WARNING: Retrying (Retry(total=3, connect=None, read=None, redirect=None, status=None)) after connection broken by 'ReadTimeoutError(\"HTTPSConnectionPool(host='pypi.org', port=443): Read timed out. (read timeout=15)\")': /simple/spacy-conll/\n",
      "  WARNING: The script parse-as-conll.exe is installed in 'C:\\Users\\Kra$0t04ka\\AppData\\Roaming\\Python\\Python39\\Scripts' which is not on PATH.\n",
      "  Consider adding this directory to PATH or, if you prefer to suppress this warning, use --no-warn-script-location.\n",
      "\n",
      "[notice] A new release of pip available: 22.3 -> 23.0.1\n",
      "[notice] To update, run: python.exe -m pip install --upgrade pip\n"
     ]
    }
   ],
   "source": [
    "!pip install spacy-conll"
   ]
  },
  {
   "cell_type": "code",
   "execution_count": 3,
   "id": "1946057f",
   "metadata": {},
   "outputs": [
    {
     "name": "stdout",
     "output_type": "stream",
     "text": [
      "Defaulting to user installation because normal site-packages is not writeable\n",
      "Collecting ru-core-news-sm==3.5.0\n",
      "  Downloading https://github.com/explosion/spacy-models/releases/download/ru_core_news_sm-3.5.0/ru_core_news_sm-3.5.0-py3-none-any.whl (15.3 MB)\n",
      "     ---------------------------------------- 15.3/15.3 MB 4.5 MB/s eta 0:00:00\n",
      "Requirement already satisfied: pymorphy3>=1.0.0 in c:\\users\\kra$0t04ka\\appdata\\roaming\\python\\python39\\site-packages (from ru-core-news-sm==3.5.0) (1.2.0)\n",
      "Requirement already satisfied: spacy<3.6.0,>=3.5.0 in c:\\users\\kra$0t04ka\\appdata\\roaming\\python\\python39\\site-packages (from ru-core-news-sm==3.5.0) (3.5.0)\n",
      "Requirement already satisfied: pymorphy3-dicts-ru in c:\\users\\kra$0t04ka\\appdata\\roaming\\python\\python39\\site-packages (from pymorphy3>=1.0.0->ru-core-news-sm==3.5.0) (2.4.417150.4580142)\n",
      "Requirement already satisfied: docopt>=0.6 in c:\\users\\kra$0t04ka\\appdata\\roaming\\python\\python39\\site-packages (from pymorphy3>=1.0.0->ru-core-news-sm==3.5.0) (0.6.2)\n",
      "Requirement already satisfied: dawg-python>=0.7.1 in c:\\users\\kra$0t04ka\\appdata\\roaming\\python\\python39\\site-packages (from pymorphy3>=1.0.0->ru-core-news-sm==3.5.0) (0.7.2)\n",
      "Requirement already satisfied: pathy>=0.10.0 in c:\\users\\kra$0t04ka\\appdata\\roaming\\python\\python39\\site-packages (from spacy<3.6.0,>=3.5.0->ru-core-news-sm==3.5.0) (0.10.1)\n",
      "Requirement already satisfied: catalogue<2.1.0,>=2.0.6 in c:\\users\\kra$0t04ka\\appdata\\roaming\\python\\python39\\site-packages (from spacy<3.6.0,>=3.5.0->ru-core-news-sm==3.5.0) (2.0.8)\n",
      "Requirement already satisfied: srsly<3.0.0,>=2.4.3 in c:\\users\\kra$0t04ka\\appdata\\roaming\\python\\python39\\site-packages (from spacy<3.6.0,>=3.5.0->ru-core-news-sm==3.5.0) (2.4.4)\n",
      "Requirement already satisfied: packaging>=20.0 in c:\\program files\\conda\\lib\\site-packages (from spacy<3.6.0,>=3.5.0->ru-core-news-sm==3.5.0) (21.3)\n",
      "Requirement already satisfied: spacy-legacy<3.1.0,>=3.0.11 in c:\\users\\kra$0t04ka\\appdata\\roaming\\python\\python39\\site-packages (from spacy<3.6.0,>=3.5.0->ru-core-news-sm==3.5.0) (3.0.11)\n",
      "Requirement already satisfied: setuptools in c:\\users\\kra$0t04ka\\appdata\\roaming\\python\\python39\\site-packages (from spacy<3.6.0,>=3.5.0->ru-core-news-sm==3.5.0) (65.5.0)\n",
      "Requirement already satisfied: jinja2 in c:\\program files\\conda\\lib\\site-packages (from spacy<3.6.0,>=3.5.0->ru-core-news-sm==3.5.0) (2.11.3)\n",
      "Requirement already satisfied: numpy>=1.15.0 in c:\\program files\\conda\\lib\\site-packages (from spacy<3.6.0,>=3.5.0->ru-core-news-sm==3.5.0) (1.21.5)\n",
      "Requirement already satisfied: smart-open<7.0.0,>=5.2.1 in c:\\users\\kra$0t04ka\\appdata\\roaming\\python\\python39\\site-packages (from spacy<3.6.0,>=3.5.0->ru-core-news-sm==3.5.0) (5.2.1)\n",
      "Requirement already satisfied: typer<0.8.0,>=0.3.0 in c:\\users\\kra$0t04ka\\appdata\\roaming\\python\\python39\\site-packages (from spacy<3.6.0,>=3.5.0->ru-core-news-sm==3.5.0) (0.4.2)\n",
      "Requirement already satisfied: requests<3.0.0,>=2.13.0 in c:\\program files\\conda\\lib\\site-packages (from spacy<3.6.0,>=3.5.0->ru-core-news-sm==3.5.0) (2.27.1)\n",
      "Requirement already satisfied: murmurhash<1.1.0,>=0.28.0 in c:\\users\\kra$0t04ka\\appdata\\roaming\\python\\python39\\site-packages (from spacy<3.6.0,>=3.5.0->ru-core-news-sm==3.5.0) (1.0.8)\n",
      "Requirement already satisfied: langcodes<4.0.0,>=3.2.0 in c:\\users\\kra$0t04ka\\appdata\\roaming\\python\\python39\\site-packages (from spacy<3.6.0,>=3.5.0->ru-core-news-sm==3.5.0) (3.3.0)\n",
      "Requirement already satisfied: spacy-loggers<2.0.0,>=1.0.0 in c:\\users\\kra$0t04ka\\appdata\\roaming\\python\\python39\\site-packages (from spacy<3.6.0,>=3.5.0->ru-core-news-sm==3.5.0) (1.0.3)\n",
      "Requirement already satisfied: tqdm<5.0.0,>=4.38.0 in c:\\program files\\conda\\lib\\site-packages (from spacy<3.6.0,>=3.5.0->ru-core-news-sm==3.5.0) (4.64.0)"
     ]
    },
    {
     "name": "stderr",
     "output_type": "stream",
     "text": [
      "\n",
      "[notice] A new release of pip available: 22.3 -> 23.0.1\n",
      "[notice] To update, run: python.exe -m pip install --upgrade pip\n"
     ]
    },
    {
     "name": "stdout",
     "output_type": "stream",
     "text": [
      "\n",
      "Requirement already satisfied: wasabi<1.2.0,>=0.9.1 in c:\\users\\kra$0t04ka\\appdata\\roaming\\python\\python39\\site-packages (from spacy<3.6.0,>=3.5.0->ru-core-news-sm==3.5.0) (0.10.1)\n",
      "Requirement already satisfied: thinc<8.2.0,>=8.1.0 in c:\\users\\kra$0t04ka\\appdata\\roaming\\python\\python39\\site-packages (from spacy<3.6.0,>=3.5.0->ru-core-news-sm==3.5.0) (8.1.3)\n",
      "Requirement already satisfied: preshed<3.1.0,>=3.0.2 in c:\\users\\kra$0t04ka\\appdata\\roaming\\python\\python39\\site-packages (from spacy<3.6.0,>=3.5.0->ru-core-news-sm==3.5.0) (3.0.7)\n",
      "Requirement already satisfied: cymem<2.1.0,>=2.0.2 in c:\\users\\kra$0t04ka\\appdata\\roaming\\python\\python39\\site-packages (from spacy<3.6.0,>=3.5.0->ru-core-news-sm==3.5.0) (2.0.6)\n",
      "Requirement already satisfied: pydantic!=1.8,!=1.8.1,<1.11.0,>=1.7.4 in c:\\users\\kra$0t04ka\\appdata\\roaming\\python\\python39\\site-packages (from spacy<3.6.0,>=3.5.0->ru-core-news-sm==3.5.0) (1.9.2)\n",
      "Requirement already satisfied: pyparsing!=3.0.5,>=2.0.2 in c:\\program files\\conda\\lib\\site-packages (from packaging>=20.0->spacy<3.6.0,>=3.5.0->ru-core-news-sm==3.5.0) (3.0.4)\n",
      "Requirement already satisfied: typing-extensions>=3.7.4.3 in c:\\program files\\conda\\lib\\site-packages (from pydantic!=1.8,!=1.8.1,<1.11.0,>=1.7.4->spacy<3.6.0,>=3.5.0->ru-core-news-sm==3.5.0) (4.1.1)\n",
      "Requirement already satisfied: idna<4,>=2.5 in c:\\program files\\conda\\lib\\site-packages (from requests<3.0.0,>=2.13.0->spacy<3.6.0,>=3.5.0->ru-core-news-sm==3.5.0) (3.3)\n",
      "Requirement already satisfied: charset-normalizer~=2.0.0 in c:\\program files\\conda\\lib\\site-packages (from requests<3.0.0,>=2.13.0->spacy<3.6.0,>=3.5.0->ru-core-news-sm==3.5.0) (2.0.4)\n",
      "Requirement already satisfied: certifi>=2017.4.17 in c:\\program files\\conda\\lib\\site-packages (from requests<3.0.0,>=2.13.0->spacy<3.6.0,>=3.5.0->ru-core-news-sm==3.5.0) (2021.10.8)\n",
      "Requirement already satisfied: urllib3<1.27,>=1.21.1 in c:\\users\\kra$0t04ka\\appdata\\roaming\\python\\python39\\site-packages (from requests<3.0.0,>=2.13.0->spacy<3.6.0,>=3.5.0->ru-core-news-sm==3.5.0) (1.26.12)\n",
      "Requirement already satisfied: confection<1.0.0,>=0.0.1 in c:\\users\\kra$0t04ka\\appdata\\roaming\\python\\python39\\site-packages (from thinc<8.2.0,>=8.1.0->spacy<3.6.0,>=3.5.0->ru-core-news-sm==3.5.0) (0.0.3)\n",
      "Requirement already satisfied: blis<0.8.0,>=0.7.8 in c:\\users\\kra$0t04ka\\appdata\\roaming\\python\\python39\\site-packages (from thinc<8.2.0,>=8.1.0->spacy<3.6.0,>=3.5.0->ru-core-news-sm==3.5.0) (0.7.8)\n",
      "Requirement already satisfied: colorama in c:\\program files\\conda\\lib\\site-packages (from tqdm<5.0.0,>=4.38.0->spacy<3.6.0,>=3.5.0->ru-core-news-sm==3.5.0) (0.4.4)\n",
      "Requirement already satisfied: click<9.0.0,>=7.1.1 in c:\\program files\\conda\\lib\\site-packages (from typer<0.8.0,>=0.3.0->spacy<3.6.0,>=3.5.0->ru-core-news-sm==3.5.0) (8.0.4)\n",
      "Requirement already satisfied: MarkupSafe>=0.23 in c:\\program files\\conda\\lib\\site-packages (from jinja2->spacy<3.6.0,>=3.5.0->ru-core-news-sm==3.5.0) (2.0.1)\n",
      "[+] Download and installation successful\n",
      "You can now load the package via spacy.load('ru_core_news_sm')\n"
     ]
    }
   ],
   "source": [
    "!python -m spacy download ru_core_news_sm"
   ]
  },
  {
   "cell_type": "code",
   "execution_count": 17,
   "id": "cb79b394",
   "metadata": {},
   "outputs": [],
   "source": [
    "from spacy_conll import init_parser"
   ]
  },
  {
   "cell_type": "code",
   "execution_count": 5,
   "id": "5e6c99eb",
   "metadata": {},
   "outputs": [],
   "source": [
    "data_folder = Path('../data').resolve()"
   ]
  },
  {
   "cell_type": "code",
   "execution_count": 7,
   "id": "6c0b5776",
   "metadata": {},
   "outputs": [],
   "source": [
    "filename = 'Производная сложной функции примеры .txt'\n",
    "filepath = Path(data_folder, filename)"
   ]
  },
  {
   "cell_type": "code",
   "execution_count": 9,
   "id": "ada85eb9",
   "metadata": {},
   "outputs": [],
   "source": [
    "with open(filepath, 'r', encoding='utf-8-sig') as f:\n",
    "    text = ''\n",
    "    for line in f.readlines():\n",
    "        text += line.strip()"
   ]
  },
  {
   "cell_type": "code",
   "execution_count": 18,
   "id": "6a4b10f6",
   "metadata": {},
   "outputs": [],
   "source": [
    "nlp = init_parser(\"ru_core_news_sm\", 'spacy', include_headers=True)"
   ]
  },
  {
   "cell_type": "code",
   "execution_count": 19,
   "id": "a898eb81",
   "metadata": {},
   "outputs": [],
   "source": [
    "doc = nlp(text)"
   ]
  },
  {
   "cell_type": "code",
   "execution_count": 31,
   "id": "86a7df8f",
   "metadata": {},
   "outputs": [
    {
     "data": {
      "text/plain": [
       "'Производная сложной функции примеры _parsed.conllu'"
      ]
     },
     "execution_count": 31,
     "metadata": {},
     "output_type": "execute_result"
    }
   ],
   "source": [
    "filepath.stem + '_parsed.conllu'"
   ]
  },
  {
   "cell_type": "code",
   "execution_count": 32,
   "id": "8e9cde68",
   "metadata": {},
   "outputs": [],
   "source": [
    "with open(Path(data_folder, filepath.stem + '_parsed.conllu'), 'w', encoding='utf-8') as f:\n",
    "    f.write(doc._.conll_str)"
   ]
  }
 ],
 "metadata": {
  "kernelspec": {
   "display_name": "Python 3 (ipykernel)",
   "language": "python",
   "name": "python3"
  },
  "language_info": {
   "codemirror_mode": {
    "name": "ipython",
    "version": 3
   },
   "file_extension": ".py",
   "mimetype": "text/x-python",
   "name": "python",
   "nbconvert_exporter": "python",
   "pygments_lexer": "ipython3",
   "version": "3.9.12"
  }
 },
 "nbformat": 4,
 "nbformat_minor": 5
}
