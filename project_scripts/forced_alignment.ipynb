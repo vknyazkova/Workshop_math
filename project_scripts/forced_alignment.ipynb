{
 "cells": [
  {
   "cell_type": "code",
   "execution_count": 1,
   "id": "957b7dae",
   "metadata": {},
   "outputs": [],
   "source": [
    "from database import ParserDBHandler"
   ]
  },
  {
   "cell_type": "code",
   "execution_count": 2,
   "id": "72ca90bb",
   "metadata": {},
   "outputs": [],
   "source": [
    "from pathlib import Path"
   ]
  },
  {
   "cell_type": "code",
   "execution_count": 3,
   "id": "3c211e1a",
   "metadata": {},
   "outputs": [],
   "source": [
    "falignment_folder = Path('..').resolve().parent.joinpath('forced_alignment')\n",
    "db_path = Path('../website/math_corpus_database.db').resolve()"
   ]
  },
  {
   "cell_type": "code",
   "execution_count": 4,
   "id": "6cf0e266",
   "metadata": {},
   "outputs": [],
   "source": [
    "class DBHandlerFAlignment(ParserDBHandler):\n",
    "    \n",
    "    def get_text_sentences(self, text_name):\n",
    "        self.cur.execute('''SELECT sents.id, sents.sent\n",
    "                            FROM sents\n",
    "                            LEFT JOIN texts\n",
    "                            ON texts.id = sents.text_id\n",
    "                            WHERE texts.name = (?)''', (text_name,))\n",
    "        sentences = self.cur.fetchall()\n",
    "        return sentences\n",
    "    \n",
    "    def add_timecodes(self, timecodes):\n",
    "        self.cur.executemany('''UPDATE sents\n",
    "                            SET timecode = (?)\n",
    "                            WHERE id = (?)''', (timecodes))\n",
    "        self.conn.commit()"
   ]
  },
  {
   "cell_type": "code",
   "execution_count": 45,
   "id": "94677d15",
   "metadata": {},
   "outputs": [],
   "source": [
    "db = DBHandlerFAlignment(db_path)"
   ]
  },
  {
   "cell_type": "code",
   "execution_count": 46,
   "id": "eb8ca5eb",
   "metadata": {},
   "outputs": [],
   "source": [
    "text_name = 'Производная.Начало'"
   ]
  },
  {
   "cell_type": "code",
   "execution_count": 47,
   "id": "b956b827",
   "metadata": {},
   "outputs": [],
   "source": [
    "sentences = db.get_text_sentences(text_name)"
   ]
  },
  {
   "cell_type": "code",
   "execution_count": 48,
   "id": "f8584932",
   "metadata": {},
   "outputs": [],
   "source": [
    "result_folder = falignment_folder.joinpath(text_name)\n",
    "if not result_folder.exists():\n",
    "    result_folder.mkdir()"
   ]
  },
  {
   "cell_type": "code",
   "execution_count": 49,
   "id": "6745c51a",
   "metadata": {},
   "outputs": [],
   "source": [
    "txt_filepath = result_folder.joinpath('text.txt')\n",
    "audio_filepath = result_folder.joinpath('video.mp4')\n",
    "output_filepath = result_folder.joinpath('alignment.txt')\n",
    "elan_filepath = result_folder.joinpath('subtitles.csv')"
   ]
  },
  {
   "cell_type": "markdown",
   "id": "7a153520",
   "metadata": {},
   "source": [
    "Создаем текстовый файл, который потом скормим элайнеру"
   ]
  },
  {
   "cell_type": "code",
   "execution_count": 50,
   "id": "fb231989",
   "metadata": {},
   "outputs": [],
   "source": [
    "with open(txt_filepath, 'w', encoding='utf-8') as newf:\n",
    "    newf.write('\\n'.join(str(s[0]) + '|' + s[1] for s in sentences))"
   ]
  },
  {
   "cell_type": "markdown",
   "id": "d4be20d9",
   "metadata": {},
   "source": [
    "Создаем команду для элайнера, которую надо будет написать в терминале и запустить"
   ]
  },
  {
   "cell_type": "code",
   "execution_count": 51,
   "id": "46ca9605",
   "metadata": {},
   "outputs": [
    {
     "data": {
      "text/plain": [
       "'python -m aeneas.tools.execute_task C:\\\\Users\\\\Kra$0t04ka\\\\Desktop\\\\me\\\\study\\\\3d_year\\\\workshops\\\\forced_alignment\\\\Производная.Начало\\\\video.mp4 C:\\\\Users\\\\Kra$0t04ka\\\\Desktop\\\\me\\\\study\\\\3d_year\\\\workshops\\\\forced_alignment\\\\Производная.Начало\\\\text.txt \"task_language=eng|is_text_type=parsed|os_task_file_format=tsv\" C:\\\\Users\\\\Kra$0t04ka\\\\Desktop\\\\me\\\\study\\\\3d_year\\\\workshops\\\\forced_alignment\\\\Производная.Начало\\\\alignment.txt'"
      ]
     },
     "execution_count": 51,
     "metadata": {},
     "output_type": "execute_result"
    }
   ],
   "source": [
    "f'python -m aeneas.tools.execute_task {audio_filepath} {txt_filepath} \"task_language=eng|is_text_type=parsed|os_task_file_format=tsv\" {output_filepath}'"
   ]
  },
  {
   "cell_type": "markdown",
   "id": "81a13df4",
   "metadata": {},
   "source": [
    "Создадим csv файл для elan"
   ]
  },
  {
   "cell_type": "code",
   "execution_count": 52,
   "id": "85c783b3",
   "metadata": {},
   "outputs": [],
   "source": [
    "import csv"
   ]
  },
  {
   "cell_type": "code",
   "execution_count": 53,
   "id": "fdf37015",
   "metadata": {},
   "outputs": [],
   "source": [
    "sent_dict = {str(sent[0]): sent[1] for sent in sentences}"
   ]
  },
  {
   "cell_type": "code",
   "execution_count": 54,
   "id": "0c2e628b",
   "metadata": {},
   "outputs": [],
   "source": [
    "with open(output_filepath, 'r') as f:\n",
    "    with open(elan_filepath, 'w', encoding='utf-8') as newf:\n",
    "        csv_reader = csv.reader(f, delimiter='\\t')\n",
    "        csv_writer = csv.writer(newf, delimiter='\\t')\n",
    "        for row in csv_reader:\n",
    "            csv_writer.writerow([row[0], row[1], sent_dict[row[2]]])"
   ]
  },
  {
   "cell_type": "markdown",
   "id": "50e346d0",
   "metadata": {},
   "source": [
    "Теперь запишем таймкоды в базу данных"
   ]
  },
  {
   "cell_type": "code",
   "execution_count": 27,
   "id": "4b115778",
   "metadata": {
    "scrolled": true
   },
   "outputs": [
    {
     "data": {
      "text/plain": [
       "[('26.0 28.8', 59),\n",
       " ('28.8 31.96', 60),\n",
       " ('31.96 34.24', 61),\n",
       " ('34.24 46.0', 62),\n",
       " ('46.0 49.239999999999995', 63),\n",
       " ('49.239999999999995 53.480000000000004', 64),\n",
       " ('53.480000000000004 56.32', 65),\n",
       " ('56.32 64.68', 66),\n",
       " ('64.68 65.32', 67),\n",
       " ('65.32 66.16', 68),\n",
       " ('66.16 67.4', 69),\n",
       " ('67.4 70.08', 70),\n",
       " ('70.08 70.72', 71),\n",
       " ('70.72 73.84', 72),\n",
       " ('73.84 82.68', 73),\n",
       " ('82.68 86.28', 74),\n",
       " ('86.28 98.36', 75),\n",
       " ('98.36 102.64', 76),\n",
       " ('102.64 103.88', 77),\n",
       " ('103.88 110.08', 78),\n",
       " ('110.08 110.72', 79),\n",
       " ('110.72 113.2', 80),\n",
       " ('113.2 114.16', 81),\n",
       " ('114.16 115.48', 82),\n",
       " ('115.48 116.84', 83),\n",
       " ('116.84 118.8', 84),\n",
       " ('118.8 122.84', 85),\n",
       " ('122.84 134.24', 86),\n",
       " ('134.24 148.4', 87),\n",
       " ('148.4 151.44', 88),\n",
       " ('151.44 156.32', 89),\n",
       " ('156.32 158.4', 90),\n",
       " ('158.4 167.84', 91),\n",
       " ('167.84 173.44', 92),\n",
       " ('173.44 177.08', 93),\n",
       " ('177.08 199.88', 94),\n",
       " ('199.88 203.84', 95),\n",
       " ('203.84 210.84', 96),\n",
       " ('210.84 213.12', 97),\n",
       " ('213.12 223.88', 98),\n",
       " ('223.88 232.32', 99),\n",
       " ('232.32 235.0', 100),\n",
       " ('235.0 240.16', 101),\n",
       " ('240.16 255.32', 102),\n",
       " ('255.32 256.64', 103),\n",
       " ('256.64 262.68', 104),\n",
       " ('262.68 264.96000000000004', 105),\n",
       " ('264.96000000000004 272.15999999999997', 106),\n",
       " ('272.15999999999997 301.12', 107),\n",
       " ('301.12 306.76', 108),\n",
       " ('306.76 308.92', 109),\n",
       " ('308.92 315.56', 110),\n",
       " ('315.56 323.68', 111),\n",
       " ('323.68 339.12', 112),\n",
       " ('339.12 344.68', 113),\n",
       " ('344.68 348.68', 114),\n",
       " ('348.68 361.88', 115),\n",
       " ('361.88 372.84', 116),\n",
       " ('372.84 389.88', 117),\n",
       " ('389.88 395.28', 118),\n",
       " ('395.28 397.96', 119),\n",
       " ('397.96 411.04', 120),\n",
       " ('411.04 413.0', 121),\n",
       " ('413.0 414.24', 122),\n",
       " ('414.24 419.16', 123),\n",
       " ('419.16 430.0', 124),\n",
       " ('430.0 440.0', 125),\n",
       " ('440.0 442.64', 126),\n",
       " ('442.64 444.96', 127),\n",
       " ('444.96 449.76', 128),\n",
       " ('449.76 458.2', 129),\n",
       " ('458.2 464.56', 130),\n",
       " ('464.56 468.0', 131),\n",
       " ('468.0 471.48', 132),\n",
       " ('471.48 478.32', 133),\n",
       " ('478.32 482.28', 134),\n",
       " ('482.28 482.52', 135),\n",
       " ('482.52 487.4', 136),\n",
       " ('487.4 488.6', 137),\n",
       " ('488.6 490.64', 138),\n",
       " ('490.64 510.48', 139),\n",
       " ('510.48 525.88', 140),\n",
       " ('525.88 536.8399999999999', 141),\n",
       " ('536.8399999999999 538.84', 142),\n",
       " ('538.84 547.24', 143),\n",
       " ('547.24 549.96', 144),\n",
       " ('549.96 557.92', 145),\n",
       " ('557.92 564.84', 146),\n",
       " ('564.84 568.2', 147),\n",
       " ('568.2 570.04', 148),\n",
       " ('570.04 572.08', 149),\n",
       " ('572.08 577.76', 150),\n",
       " ('577.76 583.88', 151),\n",
       " ('583.88 593.8', 152),\n",
       " ('593.8 596.96', 153),\n",
       " ('596.96 601.2', 154),\n",
       " ('601.2 604.24', 155),\n",
       " ('604.24 604.4', 156),\n",
       " ('604.4 604.68', 157),\n",
       " ('604.68 618.8', 158),\n",
       " ('618.8 620.96', 159),\n",
       " ('620.96 631.2', 160),\n",
       " ('631.2 636.6', 161),\n",
       " ('636.6 642.56', 162),\n",
       " ('642.56 649.36', 163),\n",
       " ('649.36 672.84', 164),\n",
       " ('672.84 674.24', 165),\n",
       " ('674.24 682.8', 166),\n",
       " ('682.8 683.68', 167),\n",
       " ('683.68 704.08', 168),\n",
       " ('704.08 709.0', 169),\n",
       " ('709.0 709.76', 170),\n",
       " ('709.76 717.28', 171),\n",
       " ('717.28 726.76', 172),\n",
       " ('726.76 729.16', 173),\n",
       " ('729.16 731.4', 174),\n",
       " ('731.4 734.44', 175),\n",
       " ('734.44 745.12', 176),\n",
       " ('745.12 748.8', 177),\n",
       " ('748.8 768.04', 178),\n",
       " ('768.04 773.52', 179),\n",
       " ('773.52 774.04', 180),\n",
       " ('774.04 775.88', 181),\n",
       " ('775.88 776.04', 182),\n",
       " ('776.04 781.16', 183),\n",
       " ('781.16 784.32', 184),\n",
       " ('784.32 790.68', 185),\n",
       " ('790.68 794.2', 186),\n",
       " ('794.2 794.76', 187),\n",
       " ('794.76 801.16', 188),\n",
       " ('801.16 801.6', 189),\n",
       " ('801.6 801.96', 190),\n",
       " ('801.96 802.88', 191),\n",
       " ('802.88 804.2', 192),\n",
       " ('804.2 809.52', 193),\n",
       " ('809.52 820.44', 194),\n",
       " ('820.44 822.88', 195),\n",
       " ('822.88 824.68', 196),\n",
       " ('824.68 825.96', 197),\n",
       " ('825.96 828.08', 198),\n",
       " ('828.08 830.28', 199),\n",
       " ('830.28 830.6', 200),\n",
       " ('830.6 831.76', 201),\n",
       " ('831.76 839.96', 202),\n",
       " ('839.96 840.36', 203),\n",
       " ('840.36 840.84', 204),\n",
       " ('840.84 851.2', 205),\n",
       " ('851.2 857.6', 206),\n",
       " ('857.6 861.4', 207),\n",
       " ('861.4 862.76', 208),\n",
       " ('862.76 865.72', 209),\n",
       " ('865.72 872.36', 210),\n",
       " ('872.36 878.28', 211),\n",
       " ('878.28 887.24', 212),\n",
       " ('887.24 891.68', 213),\n",
       " ('891.68 896.44', 214),\n",
       " ('896.44 909.96', 215),\n",
       " ('909.96 910.52', 216),\n",
       " ('910.52 917.16', 217),\n",
       " ('917.16 923.6', 218),\n",
       " ('923.6 930.84', 219),\n",
       " ('930.84 937.8', 220),\n",
       " ('937.8 940.68', 221),\n",
       " ('940.68 946.68', 222),\n",
       " ('946.68 955.8', 223),\n",
       " ('955.8 956.16', 224),\n",
       " ('956.16 962.88', 225),\n",
       " ('962.88 967.24', 226),\n",
       " ('967.24 977.6', 227),\n",
       " ('977.6 982.04', 228),\n",
       " ('982.04 985.84', 229),\n",
       " ('985.84 986.4', 230),\n",
       " ('986.4 988.2', 231),\n",
       " ('988.2 993.68', 232),\n",
       " ('993.68 994.92', 233),\n",
       " ('994.92 995.8', 234),\n",
       " ('995.8 1005.92', 235),\n",
       " ('1005.92 1012.56', 236),\n",
       " ('1012.56 1017.36', 237),\n",
       " ('1017.36 1021.72', 238),\n",
       " ('1021.72 1022.88', 239),\n",
       " ('1022.88 1025.44', 240),\n",
       " ('1025.44 1027.4', 241),\n",
       " ('1027.4 1031.88', 242),\n",
       " ('1031.88 1037.12', 243),\n",
       " ('1037.12 1038.92', 244),\n",
       " ('1038.92 1044.44', 245),\n",
       " ('1044.44 1052.0', 246),\n",
       " ('1052.0 1058.0', 247),\n",
       " ('1058.0 1065.92', 248),\n",
       " ('1065.92 1071.68', 249),\n",
       " ('1071.68 1075.8', 250),\n",
       " ('1075.8 1078.48', 251),\n",
       " ('1078.48 1093.44', 252),\n",
       " ('1093.44 1100.52', 253),\n",
       " ('1100.52 1104.88', 254),\n",
       " ('1104.88 1115.68', 255),\n",
       " ('1115.68 1117.04', 256),\n",
       " ('1117.04 1118.76', 257),\n",
       " ('1118.76 1122.88', 258),\n",
       " ('1122.88 1144.0', 259),\n",
       " ('1144.0 1148.44', 260),\n",
       " ('1148.44 1154.68', 261),\n",
       " ('1154.68 1155.36', 262),\n",
       " ('1155.36 1159.48', 263),\n",
       " ('1159.48 1162.0', 264),\n",
       " ('1162.0 1166.6', 265)]"
      ]
     },
     "execution_count": 27,
     "metadata": {},
     "output_type": "execute_result"
    }
   ],
   "source": [
    "timecodes = []\n",
    "video_start = 26  # секунда по которой обрезали видео\n",
    "with open(output_filepath, 'r') as f:\n",
    "    csv_reader = csv.reader(f, delimiter='\\t')\n",
    "    for row in csv_reader:\n",
    "        timecodes.append((' '.join([str(float(row[0]) + video_start), str(float(row[1]) + video_start)]), int(row[2])))\n",
    "timecodes"
   ]
  },
  {
   "cell_type": "code",
   "execution_count": 28,
   "id": "127b2256",
   "metadata": {},
   "outputs": [],
   "source": [
    "db.add_timecodes(timecodes)"
   ]
  },
  {
   "cell_type": "code",
   "execution_count": null,
   "id": "92b3d402",
   "metadata": {},
   "outputs": [],
   "source": []
  }
 ],
 "metadata": {
  "kernelspec": {
   "display_name": "Python 3 (ipykernel)",
   "language": "python",
   "name": "python3"
  },
  "language_info": {
   "codemirror_mode": {
    "name": "ipython",
    "version": 3
   },
   "file_extension": ".py",
   "mimetype": "text/x-python",
   "name": "python",
   "nbconvert_exporter": "python",
   "pygments_lexer": "ipython3",
   "version": "3.9.12"
  }
 },
 "nbformat": 4,
 "nbformat_minor": 5
}
