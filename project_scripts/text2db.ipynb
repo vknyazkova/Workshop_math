{
 "cells": [
  {
   "cell_type": "code",
   "execution_count": 1,
   "id": "6144ae01",
   "metadata": {},
   "outputs": [],
   "source": [
    "from pathlib import Path"
   ]
  },
  {
   "cell_type": "code",
   "execution_count": 6,
   "id": "e4f2f72e",
   "metadata": {},
   "outputs": [],
   "source": [
    "from sentence_parser import Text2DB"
   ]
  },
  {
   "cell_type": "code",
   "execution_count": 2,
   "id": "ff9e64e8",
   "metadata": {},
   "outputs": [],
   "source": [
    "data_folder = Path('../data').resolve()\n",
    "db_path = Path('../website/math_corpus_database.db').resolve()"
   ]
  },
  {
   "cell_type": "code",
   "execution_count": 13,
   "id": "2301329b",
   "metadata": {},
   "outputs": [],
   "source": [
    "filename = 'Всё о квадратичной функции. Парабола.txt' \n",
    "youtube_link = 'https://youtu.be/hBICgw5YDyI'"
   ]
  },
  {
   "cell_type": "code",
   "execution_count": 4,
   "id": "5385bf9e",
   "metadata": {},
   "outputs": [],
   "source": [
    "txt_filepath = Path(data_folder, filename)"
   ]
  },
  {
   "cell_type": "code",
   "execution_count": 8,
   "id": "9175c31e",
   "metadata": {},
   "outputs": [],
   "source": [
    "t2db = Text2DB(txt_filepath, db_path)"
   ]
  },
  {
   "cell_type": "code",
   "execution_count": 9,
   "id": "55da6ff9",
   "metadata": {},
   "outputs": [
    {
     "name": "stderr",
     "output_type": "stream",
     "text": [
      "100%|██████████| 299/299 [02:41<00:00,  1.85it/s]\n"
     ]
    }
   ],
   "source": [
    "t2db.extract_sentences()"
   ]
  },
  {
   "cell_type": "markdown",
   "id": "c8941b0b",
   "metadata": {},
   "source": [
    "Добавим ссылку на видео на ютубе:"
   ]
  },
  {
   "cell_type": "code",
   "execution_count": 14,
   "id": "66ea2cb7",
   "metadata": {},
   "outputs": [],
   "source": [
    "t2db.db.add_youtube_link(t2db.text_id, youtube_link)"
   ]
  }
 ],
 "metadata": {
  "kernelspec": {
   "display_name": "Python 3 (ipykernel)",
   "language": "python",
   "name": "python3"
  },
  "language_info": {
   "codemirror_mode": {
    "name": "ipython",
    "version": 3
   },
   "file_extension": ".py",
   "mimetype": "text/x-python",
   "name": "python",
   "nbconvert_exporter": "python",
   "pygments_lexer": "ipython3",
   "version": "3.9.12"
  }
 },
 "nbformat": 4,
 "nbformat_minor": 5
}
