{
 "cells": [
  {
   "cell_type": "code",
   "execution_count": 1,
   "id": "957b7dae",
   "metadata": {},
   "outputs": [],
   "source": [
    "from database import ParserDBHandler"
   ]
  },
  {
   "cell_type": "code",
   "execution_count": 2,
   "id": "72ca90bb",
   "metadata": {},
   "outputs": [],
   "source": [
    "from pathlib import Path"
   ]
  },
  {
   "cell_type": "code",
   "execution_count": 4,
   "id": "3c211e1a",
   "metadata": {},
   "outputs": [],
   "source": [
    "falignment_folder = Path('..').resolve().parent.joinpath('forced_alignment')\n",
    "db_path = Path('../website/math_corpus_database.db').resolve()"
   ]
  },
  {
   "cell_type": "code",
   "execution_count": 5,
   "id": "7582484c",
   "metadata": {},
   "outputs": [
    {
     "data": {
      "text/plain": [
       "WindowsPath('C:/Users/Kra$0t04ka/Desktop/me/study/3d_year/workshops/forced_alignment')"
      ]
     },
     "execution_count": 5,
     "metadata": {},
     "output_type": "execute_result"
    }
   ],
   "source": [
    "falignment_folder"
   ]
  },
  {
   "cell_type": "code",
   "execution_count": 6,
   "id": "6cf0e266",
   "metadata": {},
   "outputs": [],
   "source": [
    "class DBHandlerFAlignment(ParserDBHandler):\n",
    "    \n",
    "    def get_text_sentences(self, text_name):\n",
    "        self.cur.execute('''SELECT sents.id, sents.sent\n",
    "                            FROM sents\n",
    "                            LEFT JOIN texts\n",
    "                            ON texts.id = sents.text_id\n",
    "                            WHERE texts.name = (?)''', (text_name,))\n",
    "        sentences = self.cur.fetchall()\n",
    "        return sentences\n",
    "    \n",
    "    def add_timecodes(self, timecodes):\n",
    "        self.cur.executemany('''UPDATE sents\n",
    "                            SET timecode = (?)\n",
    "                            WHERE id = (?)''', (timecodes))\n",
    "        self.conn.commit()"
   ]
  },
  {
   "cell_type": "code",
   "execution_count": 63,
   "id": "1e301411",
   "metadata": {},
   "outputs": [],
   "source": [
    "text_name = 'Предел последовательности матан #006 Борис Трушин'"
   ]
  },
  {
   "cell_type": "code",
   "execution_count": 64,
   "id": "94677d15",
   "metadata": {},
   "outputs": [],
   "source": [
    "db = DBHandlerFAlignment(db_path)"
   ]
  },
  {
   "cell_type": "code",
   "execution_count": 65,
   "id": "b956b827",
   "metadata": {},
   "outputs": [],
   "source": [
    "sentences = db.get_text_sentences(text_name)"
   ]
  },
  {
   "cell_type": "code",
   "execution_count": 66,
   "id": "0ff4c95d",
   "metadata": {},
   "outputs": [
    {
     "data": {
      "text/plain": [
       "[(829,\n",
       "  'Всем привет, с вами снова Борис Трушин, и мы продолжаем заниматься матанализом.'),\n",
       " (830,\n",
       "  'Сегодня поговорим про то, что такое предел последовательности, поговорим о том, как его искать.'),\n",
       " (831,\n",
       "  'Вот, но и дальше будет некоторая серия занятий, где мы обсуждаем пределы последовательности конкретной последовательности, как считать их пределы, но вот, надеюсь, что за эти несколько занятий у вас, даже если были какие-то вопросы, недопонимания, что такое предел последовательность, они так потихонечку снимутся.'),\n",
       " (832, 'Для начала определения, да?'),\n",
       " (833, 'Что такое предел числовой последовательности?')]"
      ]
     },
     "execution_count": 66,
     "metadata": {},
     "output_type": "execute_result"
    }
   ],
   "source": [
    "sentences[:5]"
   ]
  },
  {
   "cell_type": "code",
   "execution_count": 67,
   "id": "f8584932",
   "metadata": {},
   "outputs": [],
   "source": [
    "result_folder = falignment_folder.joinpath('_'.join(text_name.split()))\n",
    "if not result_folder.exists():\n",
    "    result_folder.mkdir()"
   ]
  },
  {
   "cell_type": "code",
   "execution_count": 68,
   "id": "6745c51a",
   "metadata": {},
   "outputs": [],
   "source": [
    "txt_filepath = result_folder.joinpath('text.txt')\n",
    "audio_filepath = result_folder.joinpath('video.mp4')\n",
    "output_filepath = result_folder.joinpath('alignment.txt')"
   ]
  },
  {
   "cell_type": "markdown",
   "id": "7a153520",
   "metadata": {},
   "source": [
    "Создаем текстовый файл, который потом скормим элайнеру"
   ]
  },
  {
   "cell_type": "code",
   "execution_count": 69,
   "id": "fb231989",
   "metadata": {},
   "outputs": [],
   "source": [
    "with open(txt_filepath, 'w', encoding='utf-8') as newf:\n",
    "    newf.write('\\n'.join(str(s[0]) + '|' + s[1] for s in sentences))"
   ]
  },
  {
   "cell_type": "markdown",
   "id": "d4be20d9",
   "metadata": {},
   "source": [
    "Создаем команду для элайнера, которую надо будет написать в терминале и запустить"
   ]
  },
  {
   "cell_type": "code",
   "execution_count": 70,
   "id": "46ca9605",
   "metadata": {},
   "outputs": [
    {
     "data": {
      "text/plain": [
       "'python -m aeneas.tools.execute_task C:\\\\Users\\\\Kra$0t04ka\\\\Desktop\\\\me\\\\study\\\\3d_year\\\\workshops\\\\forced_alignment\\\\Предел_последовательности_матан_#006_Борис_Трушин\\\\video.mp4 C:\\\\Users\\\\Kra$0t04ka\\\\Desktop\\\\me\\\\study\\\\3d_year\\\\workshops\\\\forced_alignment\\\\Предел_последовательности_матан_#006_Борис_Трушин\\\\text.txt \"task_language=eng|is_text_type=parsed|os_task_file_format=tsv\" C:\\\\Users\\\\Kra$0t04ka\\\\Desktop\\\\me\\\\study\\\\3d_year\\\\workshops\\\\forced_alignment\\\\Предел_последовательности_матан_#006_Борис_Трушин\\\\alignment.txt'"
      ]
     },
     "execution_count": 70,
     "metadata": {},
     "output_type": "execute_result"
    }
   ],
   "source": [
    "f'python -m aeneas.tools.execute_task {audio_filepath} {txt_filepath} \"task_language=eng|is_text_type=parsed|os_task_file_format=tsv\" {output_filepath}'"
   ]
  },
  {
   "cell_type": "markdown",
   "id": "50e346d0",
   "metadata": {},
   "source": [
    "Теперь запишем таймкоды в базу данных"
   ]
  },
  {
   "cell_type": "code",
   "execution_count": 36,
   "id": "85c783b3",
   "metadata": {},
   "outputs": [],
   "source": [
    "import csv"
   ]
  },
  {
   "cell_type": "code",
   "execution_count": 71,
   "id": "4b115778",
   "metadata": {
    "scrolled": true
   },
   "outputs": [
    {
     "data": {
      "text/plain": [
       "[('0.0 5.04', 829),\n",
       " ('5.04 10.92', 830),\n",
       " ('10.92 30.92', 831),\n",
       " ('30.92 32.6', 832),\n",
       " ('32.6 35.92', 833)]"
      ]
     },
     "execution_count": 71,
     "metadata": {},
     "output_type": "execute_result"
    }
   ],
   "source": [
    "timecodes = []\n",
    "video_start = 0  # секунда по которой обрезали видео\n",
    "with open(output_filepath, 'r') as f:\n",
    "    csv_reader = csv.reader(f, delimiter='\\t')\n",
    "    for row in csv_reader:\n",
    "        timecodes.append((' '.join([str(float(row[0]) + video_start), str(float(row[1]) + video_start)]), int(row[2])))\n",
    "timecodes[:5]"
   ]
  },
  {
   "cell_type": "code",
   "execution_count": 72,
   "id": "127b2256",
   "metadata": {},
   "outputs": [],
   "source": [
    "db.add_timecodes(timecodes)"
   ]
  },
  {
   "cell_type": "code",
   "execution_count": null,
   "id": "92b3d402",
   "metadata": {},
   "outputs": [],
   "source": []
  }
 ],
 "metadata": {
  "kernelspec": {
   "display_name": "Python 3 (ipykernel)",
   "language": "python",
   "name": "python3"
  },
  "language_info": {
   "codemirror_mode": {
    "name": "ipython",
    "version": 3
   },
   "file_extension": ".py",
   "mimetype": "text/x-python",
   "name": "python",
   "nbconvert_exporter": "python",
   "pygments_lexer": "ipython3",
   "version": "3.9.12"
  }
 },
 "nbformat": 4,
 "nbformat_minor": 5
}
