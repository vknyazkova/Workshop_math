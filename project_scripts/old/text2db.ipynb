{
 "cells": [
  {
   "cell_type": "code",
   "execution_count": 1,
   "id": "6144ae01",
   "metadata": {},
   "outputs": [],
   "source": [
    "from pathlib import Path"
   ]
  },
  {
   "cell_type": "code",
   "execution_count": 2,
   "id": "e4f2f72e",
   "metadata": {},
   "outputs": [],
   "source": [
    "from sentence_parser import Text2DB"
   ]
  },
  {
   "cell_type": "code",
   "execution_count": 14,
   "id": "ff9e64e8",
   "metadata": {},
   "outputs": [],
   "source": [
    "data_folder = Path('../../data').resolve()\n",
    "db_path = Path('../website/math_corpus_database.db').resolve()"
   ]
  },
  {
   "cell_type": "markdown",
   "id": "9dabe4c5",
   "metadata": {},
   "source": [
    "Добавить один текст:"
   ]
  },
  {
   "cell_type": "code",
   "execution_count": 6,
   "id": "2301329b",
   "metadata": {},
   "outputs": [],
   "source": [
    "filename = '5 типовых пределов. 1ый из 5и (бесконечность на бесконечность).txt' \n",
    "youtube_link = 'https://youtu.be/hBICgw5YDyI'"
   ]
  },
  {
   "cell_type": "code",
   "execution_count": 17,
   "id": "5385bf9e",
   "metadata": {},
   "outputs": [],
   "source": [
    "txt_filepath = Path(data_folder, filename)"
   ]
  },
  {
   "cell_type": "code",
   "execution_count": 18,
   "id": "9175c31e",
   "metadata": {},
   "outputs": [],
   "source": [
    "t2db = Text2DB(txt_filepath, db_path)"
   ]
  },
  {
   "cell_type": "code",
   "execution_count": 16,
   "id": "55da6ff9",
   "metadata": {},
   "outputs": [
    {
     "name": "stderr",
     "output_type": "stream",
     "text": [
      "100%|██████████| 20/20 [00:09<00:00,  2.13it/s]\n"
     ]
    }
   ],
   "source": [
    "t2db.extract_sentences()"
   ]
  },
  {
   "cell_type": "code",
   "execution_count": null,
   "id": "5c29dbd6",
   "metadata": {},
   "outputs": [],
   "source": [
    "t2db.db.add_youtube_link(t2db.text_id, youtube_link)"
   ]
  },
  {
   "cell_type": "markdown",
   "id": "624e8388",
   "metadata": {},
   "source": [
    "Добавить все тексты из папки:"
   ]
  },
  {
   "cell_type": "code",
   "execution_count": 15,
   "id": "749f4b3c",
   "metadata": {},
   "outputs": [],
   "source": [
    "txt_filepaths = [f for f in data_folder.iterdir() if f.suffix == '.txt']"
   ]
  },
  {
   "cell_type": "code",
   "execution_count": 16,
   "id": "d0b06d71",
   "metadata": {},
   "outputs": [
    {
     "data": {
      "text/plain": [
       "[WindowsPath('C:/Users/Kra$0t04ka/Desktop/me/study/3d_year/workshops/data/5 типовых пределов. 1ый из 5и (бесконечность на бесконечность).txt'),\n",
       " WindowsPath('C:/Users/Kra$0t04ka/Desktop/me/study/3d_year/workshops/data/Всё о квадратичной функции. Парабола Математика TutorOnline.txt'),\n",
       " WindowsPath('C:/Users/Kra$0t04ka/Desktop/me/study/3d_year/workshops/data/Задание №7 Производная и графики функции PARTA.txt'),\n",
       " WindowsPath('C:/Users/Kra$0t04ka/Desktop/me/study/3d_year/workshops/data/Замечательные пределы.txt'),\n",
       " WindowsPath('C:/Users/Kra$0t04ka/Desktop/me/study/3d_year/workshops/data/О-БОЛЬШОЕ и о-малое. Бесконечно большие и бесконечно малые функции матан #018 Борис Трушин.txt'),\n",
       " WindowsPath('C:/Users/Kra$0t04ka/Desktop/me/study/3d_year/workshops/data/Предел последовательности матан #006 Борис Трушин.txt'),\n",
       " WindowsPath('C:/Users/Kra$0t04ka/Desktop/me/study/3d_year/workshops/data/Предел функции. Определение предела функции “по Коши” и “по Гейне” матан #014 Борис Трушин.txt'),\n",
       " WindowsPath('C:/Users/Kra$0t04ka/Desktop/me/study/3d_year/workshops/data/Производная. Начало. Ботай со мной #056  Борис Трушин .txt')]"
      ]
     },
     "execution_count": 16,
     "metadata": {},
     "output_type": "execute_result"
    }
   ],
   "source": [
    "txt_filepaths"
   ]
  },
  {
   "cell_type": "code",
   "execution_count": 19,
   "id": "941d21dc",
   "metadata": {},
   "outputs": [
    {
     "name": "stdout",
     "output_type": "stream",
     "text": [
      "0\n"
     ]
    },
    {
     "name": "stderr",
     "output_type": "stream",
     "text": [
      "100%|██████████| 20/20 [00:09<00:00,  2.16it/s]\n"
     ]
    },
    {
     "name": "stdout",
     "output_type": "stream",
     "text": [
      "1\n"
     ]
    },
    {
     "name": "stderr",
     "output_type": "stream",
     "text": [
      "100%|██████████| 299/299 [02:17<00:00,  2.17it/s]\n"
     ]
    },
    {
     "name": "stdout",
     "output_type": "stream",
     "text": [
      "2\n"
     ]
    },
    {
     "name": "stderr",
     "output_type": "stream",
     "text": [
      "100%|██████████| 171/171 [01:27<00:00,  1.95it/s]\n"
     ]
    },
    {
     "name": "stdout",
     "output_type": "stream",
     "text": [
      "3\n"
     ]
    },
    {
     "name": "stderr",
     "output_type": "stream",
     "text": [
      "100%|██████████| 63/63 [00:31<00:00,  1.98it/s]\n"
     ]
    },
    {
     "name": "stdout",
     "output_type": "stream",
     "text": [
      "4\n"
     ]
    },
    {
     "name": "stderr",
     "output_type": "stream",
     "text": [
      "100%|██████████| 275/275 [01:56<00:00,  2.36it/s]\n"
     ]
    },
    {
     "name": "stdout",
     "output_type": "stream",
     "text": [
      "5\n"
     ]
    },
    {
     "name": "stderr",
     "output_type": "stream",
     "text": [
      "100%|██████████| 211/211 [01:26<00:00,  2.43it/s]\n"
     ]
    },
    {
     "name": "stdout",
     "output_type": "stream",
     "text": [
      "6\n"
     ]
    },
    {
     "name": "stderr",
     "output_type": "stream",
     "text": [
      "100%|██████████| 156/156 [01:05<00:00,  2.38it/s]\n"
     ]
    },
    {
     "name": "stdout",
     "output_type": "stream",
     "text": [
      "7\n"
     ]
    },
    {
     "name": "stderr",
     "output_type": "stream",
     "text": [
      "100%|██████████| 207/207 [01:54<00:00,  1.81it/s]\n"
     ]
    }
   ],
   "source": [
    "text_ids = []\n",
    "for i, file in enumerate(txt_filepaths):\n",
    "    print(i)\n",
    "    t2db = Text2DB(file, db_path)\n",
    "    t2db.extract_sentences()\n",
    "    text_ids.append(t2db.text_id)"
   ]
  },
  {
   "cell_type": "code",
   "execution_count": 20,
   "id": "81a9fe7e",
   "metadata": {},
   "outputs": [
    {
     "data": {
      "text/plain": [
       "[1, 3, 4, 5, 6, 7, 8, 9]"
      ]
     },
     "execution_count": 20,
     "metadata": {},
     "output_type": "execute_result"
    }
   ],
   "source": [
    "text_ids"
   ]
  },
  {
   "cell_type": "markdown",
   "id": "c8941b0b",
   "metadata": {},
   "source": [
    "Добавим ссылку на видео на ютубе:"
   ]
  },
  {
   "cell_type": "code",
   "execution_count": 21,
   "id": "b539a8da",
   "metadata": {},
   "outputs": [
    {
     "data": {
      "text/plain": [
       "8"
      ]
     },
     "execution_count": 21,
     "metadata": {},
     "output_type": "execute_result"
    }
   ],
   "source": [
    "youtube_links = [\n",
    "    'https://youtu.be/mDosqOHkR3A',\n",
    "    'https://youtu.be/hBICgw5YDyI',\n",
    "    'https://youtu.be/XfG2OjEcwhw',\n",
    "    'https://youtu.be/5JOagkhUXUY',\n",
    "    'https://youtu.be/L1Qn2LEweeI', \n",
    "    'https://youtu.be/ZmwdHAhVsPM',\n",
    "    'https://youtu.be/UzfAt6DoN3E',\n",
    "    'https://youtu.be/sSnyhOXFLqc',\n",
    "]\n",
    "len(youtube_links)"
   ]
  },
  {
   "cell_type": "code",
   "execution_count": 22,
   "id": "66ea2cb7",
   "metadata": {},
   "outputs": [],
   "source": [
    "for text_id, link in zip(text_ids, youtube_links):\n",
    "    t2db.db.add_youtube_link(text_id, link)"
   ]
  },
  {
   "cell_type": "code",
   "execution_count": null,
   "id": "8c9142e4",
   "metadata": {},
   "outputs": [],
   "source": []
  }
 ],
 "metadata": {
  "kernelspec": {
   "display_name": "Python 3 (ipykernel)",
   "language": "python",
   "name": "python3"
  },
  "language_info": {
   "codemirror_mode": {
    "name": "ipython",
    "version": 3
   },
   "file_extension": ".py",
   "mimetype": "text/x-python",
   "name": "python",
   "nbconvert_exporter": "python",
   "pygments_lexer": "ipython3",
   "version": "3.9.12"
  }
 },
 "nbformat": 4,
 "nbformat_minor": 5
}
