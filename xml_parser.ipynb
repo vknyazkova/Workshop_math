{
 "cells": [
  {
   "cell_type": "code",
   "execution_count": 1,
   "id": "71d28c9a",
   "metadata": {},
   "outputs": [
    {
     "name": "stdout",
     "output_type": "stream",
     "text": [
      "Defaulting to user installation because normal site-packages is not writeable\n",
      "Requirement already satisfied: spacy in c:\\users\\kra$0t04ka\\appdata\\roaming\\python\\python39\\site-packages (3.4.4)\n",
      "Requirement already satisfied: langcodes<4.0.0,>=3.2.0 in c:\\users\\kra$0t04ka\\appdata\\roaming\\python\\python39\\site-packages (from spacy) (3.3.0)\n",
      "Requirement already satisfied: spacy-loggers<2.0.0,>=1.0.0 in c:\\users\\kra$0t04ka\\appdata\\roaming\\python\\python39\\site-packages (from spacy) (1.0.3)\n",
      "Requirement already satisfied: numpy>=1.15.0 in c:\\program files\\conda\\lib\\site-packages (from spacy) (1.21.5)\n",
      "Requirement already satisfied: typer<0.8.0,>=0.3.0 in c:\\users\\kra$0t04ka\\appdata\\roaming\\python\\python39\\site-packages (from spacy) (0.4.2)\n",
      "Requirement already satisfied: srsly<3.0.0,>=2.4.3 in c:\\users\\kra$0t04ka\\appdata\\roaming\\python\\python39\\site-packages (from spacy) (2.4.4)\n",
      "Requirement already satisfied: wasabi<1.1.0,>=0.9.1 in c:\\users\\kra$0t04ka\\appdata\\roaming\\python\\python39\\site-packages (from spacy) (0.10.1)\n",
      "Requirement already satisfied: jinja2 in c:\\program files\\conda\\lib\\site-packages (from spacy) (2.11.3)\n",
      "Requirement already satisfied: spacy-legacy<3.1.0,>=3.0.10 in c:\\users\\kra$0t04ka\\appdata\\roaming\\python\\python39\\site-packages (from spacy) (3.0.10)\n",
      "Requirement already satisfied: preshed<3.1.0,>=3.0.2 in c:\\users\\kra$0t04ka\\appdata\\roaming\\python\\python39\\site-packages (from spacy) (3.0.7)\n",
      "Requirement already satisfied: cymem<2.1.0,>=2.0.2 in c:\\users\\kra$0t04ka\\appdata\\roaming\\python\\python39\\site-packages (from spacy) (2.0.6)\n",
      "Requirement already satisfied: murmurhash<1.1.0,>=0.28.0 in c:\\users\\kra$0t04ka\\appdata\\roaming\\python\\python39\\site-packages (from spacy) (1.0.8)\n",
      "Requirement already satisfied: tqdm<5.0.0,>=4.38.0 in c:\\program files\\conda\\lib\\site-packages (from spacy) (4.64.0)\n",
      "Requirement already satisfied: catalogue<2.1.0,>=2.0.6 in c:\\users\\kra$0t04ka\\appdata\\roaming\\python\\python39\\site-packages (from spacy) (2.0.8)\n",
      "Requirement already satisfied: packaging>=20.0 in c:\\program files\\conda\\lib\\site-packages (from spacy) (21.3)\n",
      "Requirement already satisfied: requests<3.0.0,>=2.13.0 in c:\\program files\\conda\\lib\\site-packages (from spacy) (2.27.1)\n",
      "Requirement already satisfied: setuptools in c:\\users\\kra$0t04ka\\appdata\\roaming\\python\\python39\\site-packages (from spacy) (65.5.0)\n",
      "Requirement already satisfied: pathy>=0.3.5 in c:\\users\\kra$0t04ka\\appdata\\roaming\\python\\python39\\site-packages (from spacy) (0.6.2)\n",
      "Requirement already satisfied: thinc<8.2.0,>=8.1.0 in c:\\users\\kra$0t04ka\\appdata\\roaming\\python\\python39\\site-packages (from spacy) (8.1.3)\n",
      "Requirement already satisfied: pydantic!=1.8,!=1.8.1,<1.11.0,>=1.7.4 in c:\\users\\kra$0t04ka\\appdata\\roaming\\python\\python39\\site-packages (from spacy) (1.9.2)\n",
      "Requirement already satisfied: smart-open<7.0.0,>=5.2.1 in c:\\users\\kra$0t04ka\\appdata\\roaming\\python\\python39\\site-packages (from spacy) (5.2.1)\n",
      "Requirement already satisfied: pyparsing!=3.0.5,>=2.0.2 in c:\\program files\\conda\\lib\\site-packages (from packaging>=20.0->spacy) (3.0.4)\n",
      "Requirement already satisfied: typing-extensions>=3.7.4.3 in c:\\program files\\conda\\lib\\site-packages (from pydantic!=1.8,!=1.8.1,<1.11.0,>=1.7.4->spacy) (4.1.1)\n",
      "Requirement already satisfied: urllib3<1.27,>=1.21.1 in c:\\users\\kra$0t04ka\\appdata\\roaming\\python\\python39\\site-packages (from requests<3.0.0,>=2.13.0->spacy) (1.26.12)\n",
      "Requirement already satisfied: certifi>=2017.4.17 in c:\\program files\\conda\\lib\\site-packages (from requests<3.0.0,>=2.13.0->spacy) (2021.10.8)\n",
      "Requirement already satisfied: idna<4,>=2.5 in c:\\program files\\conda\\lib\\site-packages (from requests<3.0.0,>=2.13.0->spacy) (3.3)\n",
      "Requirement already satisfied: charset-normalizer~=2.0.0 in c:\\program files\\conda\\lib\\site-packages (from requests<3.0.0,>=2.13.0->spacy) (2.0.4)\n",
      "Requirement already satisfied: blis<0.8.0,>=0.7.8 in c:\\users\\kra$0t04ka\\appdata\\roaming\\python\\python39\\site-packages (from thinc<8.2.0,>=8.1.0->spacy) (0.7.8)\n",
      "Requirement already satisfied: confection<1.0.0,>=0.0.1 in c:\\users\\kra$0t04ka\\appdata\\roaming\\python\\python39\\site-packages (from thinc<8.2.0,>=8.1.0->spacy) (0.0.3)\n",
      "Requirement already satisfied: colorama in c:\\program files\\conda\\lib\\site-packages (from tqdm<5.0.0,>=4.38.0->spacy) (0.4.4)\n",
      "Requirement already satisfied: click<9.0.0,>=7.1.1 in c:\\program files\\conda\\lib\\site-packages (from typer<0.8.0,>=0.3.0->spacy) (8.0.4)\n",
      "Requirement already satisfied: MarkupSafe>=0.23 in c:\\program files\\conda\\lib\\site-packages (from jinja2->spacy) (2.0.1)\n"
     ]
    },
    {
     "name": "stderr",
     "output_type": "stream",
     "text": [
      "\n",
      "[notice] A new release of pip available: 22.3 -> 22.3.1\n",
      "[notice] To update, run: python.exe -m pip install --upgrade pip\n"
     ]
    }
   ],
   "source": [
    "!pip install spacy"
   ]
  },
  {
   "cell_type": "code",
   "execution_count": 2,
   "id": "ce9d6760",
   "metadata": {},
   "outputs": [
    {
     "name": "stdout",
     "output_type": "stream",
     "text": [
      "Defaulting to user installation because normal site-packages is not writeable"
     ]
    },
    {
     "name": "stderr",
     "output_type": "stream",
     "text": [
      "\n",
      "[notice] A new release of pip available: 22.3 -> 22.3.1\n",
      "[notice] To update, run: python.exe -m pip install --upgrade pip\n"
     ]
    },
    {
     "name": "stdout",
     "output_type": "stream",
     "text": [
      "\n",
      "Collecting ru-core-news-sm==3.4.0\n",
      "  Downloading https://github.com/explosion/spacy-models/releases/download/ru_core_news_sm-3.4.0/ru_core_news_sm-3.4.0-py3-none-any.whl (15.3 MB)\n",
      "     --------------------------------------- 15.3/15.3 MB 10.4 MB/s eta 0:00:00\n",
      "Requirement already satisfied: spacy<3.5.0,>=3.4.0 in c:\\users\\kra$0t04ka\\appdata\\roaming\\python\\python39\\site-packages (from ru-core-news-sm==3.4.0) (3.4.4)\n",
      "Requirement already satisfied: pymorphy2>=0.9 in c:\\users\\kra$0t04ka\\appdata\\roaming\\python\\python39\\site-packages (from ru-core-news-sm==3.4.0) (0.9.1)\n",
      "Requirement already satisfied: dawg-python>=0.7.1 in c:\\users\\kra$0t04ka\\appdata\\roaming\\python\\python39\\site-packages (from pymorphy2>=0.9->ru-core-news-sm==3.4.0) (0.7.2)\n",
      "Requirement already satisfied: pymorphy2-dicts-ru<3.0,>=2.4 in c:\\users\\kra$0t04ka\\appdata\\roaming\\python\\python39\\site-packages (from pymorphy2>=0.9->ru-core-news-sm==3.4.0) (2.4.417127.4579844)\n",
      "Requirement already satisfied: docopt>=0.6 in c:\\users\\kra$0t04ka\\appdata\\roaming\\python\\python39\\site-packages (from pymorphy2>=0.9->ru-core-news-sm==3.4.0) (0.6.2)\n",
      "Requirement already satisfied: tqdm<5.0.0,>=4.38.0 in c:\\program files\\conda\\lib\\site-packages (from spacy<3.5.0,>=3.4.0->ru-core-news-sm==3.4.0) (4.64.0)\n",
      "Requirement already satisfied: spacy-loggers<2.0.0,>=1.0.0 in c:\\users\\kra$0t04ka\\appdata\\roaming\\python\\python39\\site-packages (from spacy<3.5.0,>=3.4.0->ru-core-news-sm==3.4.0) (1.0.3)\n",
      "Requirement already satisfied: spacy-legacy<3.1.0,>=3.0.10 in c:\\users\\kra$0t04ka\\appdata\\roaming\\python\\python39\\site-packages (from spacy<3.5.0,>=3.4.0->ru-core-news-sm==3.4.0) (3.0.10)\n",
      "Requirement already satisfied: pydantic!=1.8,!=1.8.1,<1.11.0,>=1.7.4 in c:\\users\\kra$0t04ka\\appdata\\roaming\\python\\python39\\site-packages (from spacy<3.5.0,>=3.4.0->ru-core-news-sm==3.4.0) (1.9.2)\n",
      "Requirement already satisfied: jinja2 in c:\\program files\\conda\\lib\\site-packages (from spacy<3.5.0,>=3.4.0->ru-core-news-sm==3.4.0) (2.11.3)\n",
      "Requirement already satisfied: preshed<3.1.0,>=3.0.2 in c:\\users\\kra$0t04ka\\appdata\\roaming\\python\\python39\\site-packages (from spacy<3.5.0,>=3.4.0->ru-core-news-sm==3.4.0) (3.0.7)\n",
      "Requirement already satisfied: catalogue<2.1.0,>=2.0.6 in c:\\users\\kra$0t04ka\\appdata\\roaming\\python\\python39\\site-packages (from spacy<3.5.0,>=3.4.0->ru-core-news-sm==3.4.0) (2.0.8)\n",
      "Requirement already satisfied: langcodes<4.0.0,>=3.2.0 in c:\\users\\kra$0t04ka\\appdata\\roaming\\python\\python39\\site-packages (from spacy<3.5.0,>=3.4.0->ru-core-news-sm==3.4.0) (3.3.0)\n",
      "Requirement already satisfied: srsly<3.0.0,>=2.4.3 in c:\\users\\kra$0t04ka\\appdata\\roaming\\python\\python39\\site-packages (from spacy<3.5.0,>=3.4.0->ru-core-news-sm==3.4.0) (2.4.4)\n",
      "Requirement already satisfied: pathy>=0.3.5 in c:\\users\\kra$0t04ka\\appdata\\roaming\\python\\python39\\site-packages (from spacy<3.5.0,>=3.4.0->ru-core-news-sm==3.4.0) (0.6.2)\n",
      "Requirement already satisfied: setuptools in c:\\users\\kra$0t04ka\\appdata\\roaming\\python\\python39\\site-packages (from spacy<3.5.0,>=3.4.0->ru-core-news-sm==3.4.0) (65.5.0)\n",
      "Requirement already satisfied: smart-open<7.0.0,>=5.2.1 in c:\\users\\kra$0t04ka\\appdata\\roaming\\python\\python39\\site-packages (from spacy<3.5.0,>=3.4.0->ru-core-news-sm==3.4.0) (5.2.1)\n",
      "Requirement already satisfied: typer<0.8.0,>=0.3.0 in c:\\users\\kra$0t04ka\\appdata\\roaming\\python\\python39\\site-packages (from spacy<3.5.0,>=3.4.0->ru-core-news-sm==3.4.0) (0.4.2)\n",
      "Requirement already satisfied: cymem<2.1.0,>=2.0.2 in c:\\users\\kra$0t04ka\\appdata\\roaming\\python\\python39\\site-packages (from spacy<3.5.0,>=3.4.0->ru-core-news-sm==3.4.0) (2.0.6)\n",
      "Requirement already satisfied: wasabi<1.1.0,>=0.9.1 in c:\\users\\kra$0t04ka\\appdata\\roaming\\python\\python39\\site-packages (from spacy<3.5.0,>=3.4.0->ru-core-news-sm==3.4.0) (0.10.1)\n",
      "Requirement already satisfied: requests<3.0.0,>=2.13.0 in c:\\program files\\conda\\lib\\site-packages (from spacy<3.5.0,>=3.4.0->ru-core-news-sm==3.4.0) (2.27.1)\n",
      "Requirement already satisfied: packaging>=20.0 in c:\\program files\\conda\\lib\\site-packages (from spacy<3.5.0,>=3.4.0->ru-core-news-sm==3.4.0) (21.3)\n",
      "Requirement already satisfied: murmurhash<1.1.0,>=0.28.0 in c:\\users\\kra$0t04ka\\appdata\\roaming\\python\\python39\\site-packages (from spacy<3.5.0,>=3.4.0->ru-core-news-sm==3.4.0) (1.0.8)\n",
      "Requirement already satisfied: thinc<8.2.0,>=8.1.0 in c:\\users\\kra$0t04ka\\appdata\\roaming\\python\\python39\\site-packages (from spacy<3.5.0,>=3.4.0->ru-core-news-sm==3.4.0) (8.1.3)\n",
      "Requirement already satisfied: numpy>=1.15.0 in c:\\program files\\conda\\lib\\site-packages (from spacy<3.5.0,>=3.4.0->ru-core-news-sm==3.4.0) (1.21.5)\n",
      "Requirement already satisfied: pyparsing!=3.0.5,>=2.0.2 in c:\\program files\\conda\\lib\\site-packages (from packaging>=20.0->spacy<3.5.0,>=3.4.0->ru-core-news-sm==3.4.0) (3.0.4)\n",
      "Requirement already satisfied: typing-extensions>=3.7.4.3 in c:\\program files\\conda\\lib\\site-packages (from pydantic!=1.8,!=1.8.1,<1.11.0,>=1.7.4->spacy<3.5.0,>=3.4.0->ru-core-news-sm==3.4.0) (4.1.1)\n",
      "Requirement already satisfied: charset-normalizer~=2.0.0 in c:\\program files\\conda\\lib\\site-packages (from requests<3.0.0,>=2.13.0->spacy<3.5.0,>=3.4.0->ru-core-news-sm==3.4.0) (2.0.4)\n",
      "Requirement already satisfied: idna<4,>=2.5 in c:\\program files\\conda\\lib\\site-packages (from requests<3.0.0,>=2.13.0->spacy<3.5.0,>=3.4.0->ru-core-news-sm==3.4.0) (3.3)\n",
      "Requirement already satisfied: certifi>=2017.4.17 in c:\\program files\\conda\\lib\\site-packages (from requests<3.0.0,>=2.13.0->spacy<3.5.0,>=3.4.0->ru-core-news-sm==3.4.0) (2021.10.8)\n",
      "Requirement already satisfied: urllib3<1.27,>=1.21.1 in c:\\users\\kra$0t04ka\\appdata\\roaming\\python\\python39\\site-packages (from requests<3.0.0,>=2.13.0->spacy<3.5.0,>=3.4.0->ru-core-news-sm==3.4.0) (1.26.12)\n",
      "Requirement already satisfied: confection<1.0.0,>=0.0.1 in c:\\users\\kra$0t04ka\\appdata\\roaming\\python\\python39\\site-packages (from thinc<8.2.0,>=8.1.0->spacy<3.5.0,>=3.4.0->ru-core-news-sm==3.4.0) (0.0.3)\n",
      "Requirement already satisfied: blis<0.8.0,>=0.7.8 in c:\\users\\kra$0t04ka\\appdata\\roaming\\python\\python39\\site-packages (from thinc<8.2.0,>=8.1.0->spacy<3.5.0,>=3.4.0->ru-core-news-sm==3.4.0) (0.7.8)\n",
      "Requirement already satisfied: colorama in c:\\program files\\conda\\lib\\site-packages (from tqdm<5.0.0,>=4.38.0->spacy<3.5.0,>=3.4.0->ru-core-news-sm==3.4.0) (0.4.4)\n",
      "Requirement already satisfied: click<9.0.0,>=7.1.1 in c:\\program files\\conda\\lib\\site-packages (from typer<0.8.0,>=0.3.0->spacy<3.5.0,>=3.4.0->ru-core-news-sm==3.4.0) (8.0.4)\n",
      "Requirement already satisfied: MarkupSafe>=0.23 in c:\\program files\\conda\\lib\\site-packages (from jinja2->spacy<3.5.0,>=3.4.0->ru-core-news-sm==3.4.0) (2.0.1)\n",
      "[+] Download and installation successful\n",
      "You can now load the package via spacy.load('ru_core_news_sm')\n"
     ]
    }
   ],
   "source": [
    "!python -m spacy download ru_core_news_sm"
   ]
  },
  {
   "cell_type": "code",
   "execution_count": 3,
   "id": "f5e65c23",
   "metadata": {},
   "outputs": [],
   "source": [
    "import spacy\n",
    "nlp = spacy.load(\"ru_core_news_sm\")"
   ]
  },
  {
   "cell_type": "code",
   "execution_count": 4,
   "id": "bd6d509d",
   "metadata": {},
   "outputs": [],
   "source": [
    "import sqlite3"
   ]
  },
  {
   "cell_type": "code",
   "execution_count": 106,
   "id": "5a32dc37",
   "metadata": {},
   "outputs": [
    {
     "name": "stdout",
     "output_type": "stream",
     "text": [
      "init\n"
     ]
    }
   ],
   "source": [
    "class DBHandler:\n",
    "    conn = None\n",
    "    cur = None\n",
    "\n",
    "    def __init__(self, db_path):\n",
    "        print('init')\n",
    "        self.conn = sqlite3.connect(db_path, check_same_thread=False)\n",
    "        self.cur = self.conn.cursor()\n",
    "\n",
    "    def __del__(self):\n",
    "        self.conn.close()\n",
    "\n",
    "    def add_text(self, text_name):\n",
    "        \n",
    "        self.cur.execute('''INSERT or IGNORE INTO texts (name)\n",
    "                            VALUES (?)\n",
    "                            RETURNING id''', (text_name, ))\n",
    "    \n",
    "        added_id = self.cur.fetchone()\n",
    "        self.conn.commit()\n",
    "        \n",
    "        if not added_id:\n",
    "            self.cur.execute('''SELECT id\n",
    "                                FROM texts\n",
    "                                WHERE name = ?''', (text_name, ))\n",
    "            added_id = self.cur.fetchone()\n",
    "        return added_id[0]\n",
    "        \n",
    "    def add_sent(self, text_id, sent, lemmatized):\n",
    "        \n",
    "        self.cur.execute('''INSERT INTO sents (text_id, sent, lemmatized)\n",
    "                            VALUES (?, ?, ?)\n",
    "                            RETURNING id''', (text_id, sent, lemmatized))\n",
    "        \n",
    "        added_id = self.cur.fetchone()\n",
    "        self.conn.commit()\n",
    "        return added_id[0]\n",
    "    \n",
    "    def add_tokens(self, tokens_info): \n",
    "        \":param tokens_info: list of tuples (sent_id, word_in_sent, token)\"\n",
    "        \n",
    "        self.cur.executemany('''INSERT INTO tokens (sent_id, word_in_sent, token)\n",
    "                                VALUES (?, ?, ?)''', tokens_info)\n",
    "        \n",
    "        self.conn.commit()\n",
    "        \n",
    "        self.cur.execute('''SELECT id \n",
    "                            FROM tokens\n",
    "                            WHERE sent_id = ?\n",
    "                            ORDER BY word_in_sent''', (tokens_info[0][0],))\n",
    "        added_ids = self.cur.fetchall()\n",
    "        return [token_id[0] for token_id in added_ids]\n",
    "\n",
    "    \n",
    "#     def get_lemma_id(self)\n",
    "    \n",
    "    def add_lemmas(self, lemmas):\n",
    "        self.cur.executemany('''INSERT or IGNORE\n",
    "                            INTO lemma (name)\n",
    "                            VALUES (?)''', lemmas)\n",
    "        self.cur.commit()\n",
    "        \n",
    "        self.cur.execute('''SELECT id\n",
    "                            FROM lemma\n",
    "                            WHERE name IN ?''', lemmas)\n",
    "        \n",
    "        lemma_ids = self.cur.fetchall()\n",
    "        return [token_id[0] for token_id in lemma_ids]\n",
    "db = DBHandler('math_corpus_new.db')"
   ]
  },
  {
   "cell_type": "code",
   "execution_count": 37,
   "id": "c4158a89",
   "metadata": {},
   "outputs": [],
   "source": [
    "xml_filename = 'test.xml'"
   ]
  },
  {
   "cell_type": "code",
   "execution_count": 7,
   "id": "7624dece",
   "metadata": {},
   "outputs": [],
   "source": [
    "from bs4 import BeautifulSoup"
   ]
  },
  {
   "cell_type": "code",
   "execution_count": 11,
   "id": "47f895fd",
   "metadata": {},
   "outputs": [],
   "source": [
    "with open(xml_filename, 'r', encoding='utf-8') as f:\n",
    "    xml_file = f.read()"
   ]
  },
  {
   "cell_type": "code",
   "execution_count": 12,
   "id": "4b2729cb",
   "metadata": {},
   "outputs": [],
   "source": [
    "bs_data = BeautifulSoup(xml_file, \"xml\")"
   ]
  },
  {
   "cell_type": "code",
   "execution_count": 13,
   "id": "5da2aea4",
   "metadata": {},
   "outputs": [
    {
     "data": {
      "text/plain": [
       "[<segment features=\"math_tags\" filename=\"\" id=\"1\" state=\"active\" subcorp=\"\"><segment comment=\"Модель управления: X в Y.ORD.LOC.SG степени; X в степени Y.NOM.SG\" features=\"math_tags;oper;power\" filename=\"\" id=\"110\" parent=\"1\" state=\"active\" subcorp=\"\">Степень</segment> с <segment features=\"math_tags;term;set;nat\" filename=\"\" id=\"113\" parent=\"1\" state=\"active\" subcorp=\"\">натуральным</segment> <segment features=\"math_tags;visual;superscript\" filename=\"\" id=\"114\" parent=\"1\" state=\"active\" subcorp=\"\">показателем</segment>.</segment>,\n",
       " <segment comment=\"Модель управления: X в Y.ORD.LOC.SG степени; X в степени Y.NOM.SG\" features=\"math_tags;oper;power\" filename=\"\" id=\"110\" parent=\"1\" state=\"active\" subcorp=\"\">Степень</segment>,\n",
       " <segment features=\"math_tags;term;set;nat\" filename=\"\" id=\"113\" parent=\"1\" state=\"active\" subcorp=\"\">натуральным</segment>,\n",
       " <segment features=\"math_tags;visual;superscript\" filename=\"\" id=\"114\" parent=\"1\" state=\"active\" subcorp=\"\">показателем</segment>,\n",
       " <segment features=\"math_tags\" filename=\"\" id=\"2\" state=\"active\" subcorp=\"\"><segment features=\"math_tags;comment;definition\" filename=\"\" id=\"112\" parent=\"2\" state=\"active\" subcorp=\"\">Определение</segment> <segment comment=\"Модель управления: X в Y.ORD.LOC.SG степени; X в степени Y.NOM.SG\" features=\"math_tags;oper;power\" filename=\"\" id=\"111\" parent=\"2\" state=\"active\" subcorp=\"\">степени</segment>: <segment features=\"math_tags;term;var;common;letter;latin;a\" id=\"15\" parent=\"2\" state=\"active\">а</segment> в <segment features=\"math_tags;term;var;common;letter;latin;n\" id=\"18\" parent=\"2\" state=\"active\">энной</segment> <segment comment=\"Модель управления: X в Y.ORD.LOC.SG степени; X в степени Y.NOM.SG\" features=\"math_tags;oper;power\" id=\"17\" parent=\"2\" state=\"active\">степени</segment> <segment features=\"math_tags;pred;equal\" id=\"19\" parent=\"2\" state=\"active\">равняется</segment> <segment features=\"math_tags;oper;mult;common;self\" id=\"20\" parent=\"2\" state=\"active\">произведению</segment> <segment features=\"math_tags;term;var;common;letter;latin;n\" filename=\"\" id=\"21\" parent=\"2\" state=\"active\" subcorp=\"\">энн</segment> <segment features=\"math_tags;term\" filename=\"\" id=\"22\" parent=\"2\" state=\"active\" subcorp=\"\">множителей</segment>, каждый из которых <segment features=\"math_tags;pred;equal;common;self\" id=\"85\" parent=\"2\" state=\"active\">равен</segment> <segment features=\"math_tags;term;var;common;letter;latin;a\" id=\"86\" parent=\"2\" state=\"active\">а</segment>, где <segment features=\"math_tags;term;var;common;letter;latin;n\" id=\"23\" parent=\"2\" state=\"active\">энн</segment> - число <segment features=\"math_tags;term;set;nat;common;self\" id=\"24\" parent=\"2\" state=\"active\">натуральное.</segment> Считается, что <segment features=\"math_tags;term;var;common;letter;latin;a\" id=\"30\" parent=\"2\" state=\"active\">а</segment> в <segment features=\"math_tags;term;number;common;self\" id=\"87\" parent=\"2\" state=\"active\">первой</segment> <segment comment=\"Модель управления: X в Y.ORD.LOC.SG степени; X в степени Y.NOM.SG\" features=\"math_tags;oper;power;common;self\" id=\"25\" parent=\"2\" state=\"active\">степени</segment> <segment features=\"math_tags;pred;equal\" id=\"27\" parent=\"2\" state=\"active\">равняется</segment> <segment features=\"math_tags;term;var;common;letter;latin;a\" filename=\"\" id=\"29\" parent=\"2\" state=\"active\" subcorp=\"\">а</segment>.</segment>,\n",
       " <segment features=\"math_tags;comment;definition\" filename=\"\" id=\"112\" parent=\"2\" state=\"active\" subcorp=\"\">Определение</segment>,\n",
       " <segment comment=\"Модель управления: X в Y.ORD.LOC.SG степени; X в степени Y.NOM.SG\" features=\"math_tags;oper;power\" filename=\"\" id=\"111\" parent=\"2\" state=\"active\" subcorp=\"\">степени</segment>,\n",
       " <segment features=\"math_tags;term;var;common;letter;latin;a\" id=\"15\" parent=\"2\" state=\"active\">а</segment>,\n",
       " <segment features=\"math_tags;term;var;common;letter;latin;n\" id=\"18\" parent=\"2\" state=\"active\">энной</segment>,\n",
       " <segment comment=\"Модель управления: X в Y.ORD.LOC.SG степени; X в степени Y.NOM.SG\" features=\"math_tags;oper;power\" id=\"17\" parent=\"2\" state=\"active\">степени</segment>,\n",
       " <segment features=\"math_tags;pred;equal\" id=\"19\" parent=\"2\" state=\"active\">равняется</segment>,\n",
       " <segment features=\"math_tags;oper;mult;common;self\" id=\"20\" parent=\"2\" state=\"active\">произведению</segment>,\n",
       " <segment features=\"math_tags;term;var;common;letter;latin;n\" filename=\"\" id=\"21\" parent=\"2\" state=\"active\" subcorp=\"\">энн</segment>,\n",
       " <segment features=\"math_tags;term\" filename=\"\" id=\"22\" parent=\"2\" state=\"active\" subcorp=\"\">множителей</segment>,\n",
       " <segment features=\"math_tags;pred;equal;common;self\" id=\"85\" parent=\"2\" state=\"active\">равен</segment>,\n",
       " <segment features=\"math_tags;term;var;common;letter;latin;a\" id=\"86\" parent=\"2\" state=\"active\">а</segment>,\n",
       " <segment features=\"math_tags;term;var;common;letter;latin;n\" id=\"23\" parent=\"2\" state=\"active\">энн</segment>,\n",
       " <segment features=\"math_tags;term;set;nat;common;self\" id=\"24\" parent=\"2\" state=\"active\">натуральное.</segment>,\n",
       " <segment features=\"math_tags;term;var;common;letter;latin;a\" id=\"30\" parent=\"2\" state=\"active\">а</segment>,\n",
       " <segment features=\"math_tags;term;number;common;self\" id=\"87\" parent=\"2\" state=\"active\">первой</segment>,\n",
       " <segment comment=\"Модель управления: X в Y.ORD.LOC.SG степени; X в степени Y.NOM.SG\" features=\"math_tags;oper;power;common;self\" id=\"25\" parent=\"2\" state=\"active\">степени</segment>,\n",
       " <segment features=\"math_tags;pred;equal\" id=\"27\" parent=\"2\" state=\"active\">равняется</segment>,\n",
       " <segment features=\"math_tags;term;var;common;letter;latin;a\" filename=\"\" id=\"29\" parent=\"2\" state=\"active\" subcorp=\"\">а</segment>,\n",
       " <segment features=\"math_tags\" filename=\"\" id=\"3\" state=\"active\" subcorp=\"\">Например, <segment features=\"math_tags;term;number;common;self\" filename=\"\" id=\"31\" parent=\"3\" state=\"active\" subcorp=\"\">три</segment> в <segment features=\"math_tags;term;number;common;self\" id=\"32\" parent=\"3\" state=\"active\">третьей</segment> <segment comment=\"Модель управления: X в Y.ORD.LOC.SG степени; X в степени Y.NOM.SG\" features=\"math_tags;oper;power;common;self\" id=\"33\" parent=\"3\" state=\"active\">степени</segment> - это <segment features=\"math_tags;oper;mult;common;self\" id=\"34\" parent=\"3\" state=\"active\">произведение</segment> <segment features=\"math_tags;term;number;common;self\" id=\"35\" parent=\"3\" state=\"active\">трех</segment> <segment features=\"math_tags;term;number;common;self\" id=\"36\" parent=\"3\" state=\"active\">троек</segment>, <segment features=\"math_tags;pred;equal;common;self\" id=\"37\" parent=\"3\" state=\"active\">равно</segment> такое <segment features=\"math_tags;oper;mult;common;self\" id=\"39\" parent=\"3\" state=\"active\">произведение</segment> числу <segment features=\"math_tags;term;number;common;self\" filename=\"\" id=\"42\" parent=\"3\" state=\"active\" subcorp=\"\">двадцать</segment> <segment features=\"math_tags;term;number;common;self\" id=\"43\" parent=\"3\" state=\"active\">семь</segment>.</segment>,\n",
       " <segment features=\"math_tags;term;number;common;self\" filename=\"\" id=\"31\" parent=\"3\" state=\"active\" subcorp=\"\">три</segment>,\n",
       " <segment features=\"math_tags;term;number;common;self\" id=\"32\" parent=\"3\" state=\"active\">третьей</segment>,\n",
       " <segment comment=\"Модель управления: X в Y.ORD.LOC.SG степени; X в степени Y.NOM.SG\" features=\"math_tags;oper;power;common;self\" id=\"33\" parent=\"3\" state=\"active\">степени</segment>,\n",
       " <segment features=\"math_tags;oper;mult;common;self\" id=\"34\" parent=\"3\" state=\"active\">произведение</segment>,\n",
       " <segment features=\"math_tags;term;number;common;self\" id=\"35\" parent=\"3\" state=\"active\">трех</segment>,\n",
       " <segment features=\"math_tags;term;number;common;self\" id=\"36\" parent=\"3\" state=\"active\">троек</segment>,\n",
       " <segment features=\"math_tags;pred;equal;common;self\" id=\"37\" parent=\"3\" state=\"active\">равно</segment>,\n",
       " <segment features=\"math_tags;oper;mult;common;self\" id=\"39\" parent=\"3\" state=\"active\">произведение</segment>,\n",
       " <segment features=\"math_tags;term;number;common;self\" filename=\"\" id=\"42\" parent=\"3\" state=\"active\" subcorp=\"\">двадцать</segment>,\n",
       " <segment features=\"math_tags;term;number;common;self\" id=\"43\" parent=\"3\" state=\"active\">семь</segment>,\n",
       " <segment features=\"math_tags\" filename=\"\" id=\"4\" state=\"active\" subcorp=\"\"><segment features=\"math_tags;visual;negative;common;self\" filename=\"\" id=\"44\" parent=\"4\" state=\"active\" subcorp=\"\">Минус</segment> <segment features=\"math_tags;term;number;common;self\" id=\"45\" parent=\"4\" state=\"active\">пять</segment> во <segment features=\"math_tags;term;number;common;self\" id=\"46\" parent=\"4\" state=\"active\">второй</segment> <segment comment=\"Модель управления: X в Y.ORD.LOC.SG степени; X в степени Y.NOM.SG\" features=\"math_tags;oper;power;common;self\" id=\"47\" parent=\"4\" state=\"active\">степени</segment>: для того, чтобы вычислить нужно <segment features=\"math_tags;visual;negative;common;self\" id=\"52\" parent=\"4\" state=\"active\">минус</segment> <segment features=\"math_tags;term;number;common;self\" id=\"48\" parent=\"4\" state=\"active\">пять</segment> <segment features=\"math_tags;oper;mult;common;self\" id=\"49\" parent=\"4\" state=\"active\">умножить</segment> на <segment features=\"math_tags;visual;negative;common;self\" id=\"51\" parent=\"4\" state=\"active\">минус</segment> <segment features=\"math_tags;term;number;common;self\" id=\"50\" parent=\"4\" state=\"active\">пять</segment>, получим <segment features=\"math_tags;term;number;common;self\" id=\"53\" parent=\"4\" state=\"active\">двадцать</segment> <segment features=\"math_tags;term;number;common;self\" id=\"54\" parent=\"4\" state=\"active\">пять</segment>, <segment features=\"math_tags;term;number;common;self\" id=\"55\" parent=\"4\" state=\"active\">семь</segment> в <segment features=\"math_tags;term;number;common;self\" id=\"57\" parent=\"4\" state=\"active\">первой</segment> <segment comment=\"Модель управления: X в Y.ORD.LOC.SG степени; X в степени Y.NOM.SG\" features=\"math_tags;oper;power;common;self\" id=\"56\" parent=\"4\" state=\"active\">степени</segment> <segment features=\"math_tags;pred;equal;common;self\" id=\"58\" parent=\"4\" state=\"active\">равно</segment> <segment features=\"math_tags;term;number;common;self\" id=\"59\" parent=\"4\" state=\"active\">семи</segment>.</segment>,\n",
       " <segment features=\"math_tags;visual;negative;common;self\" filename=\"\" id=\"44\" parent=\"4\" state=\"active\" subcorp=\"\">Минус</segment>,\n",
       " <segment features=\"math_tags;term;number;common;self\" id=\"45\" parent=\"4\" state=\"active\">пять</segment>,\n",
       " <segment features=\"math_tags;term;number;common;self\" id=\"46\" parent=\"4\" state=\"active\">второй</segment>,\n",
       " <segment comment=\"Модель управления: X в Y.ORD.LOC.SG степени; X в степени Y.NOM.SG\" features=\"math_tags;oper;power;common;self\" id=\"47\" parent=\"4\" state=\"active\">степени</segment>,\n",
       " <segment features=\"math_tags;visual;negative;common;self\" id=\"52\" parent=\"4\" state=\"active\">минус</segment>,\n",
       " <segment features=\"math_tags;term;number;common;self\" id=\"48\" parent=\"4\" state=\"active\">пять</segment>,\n",
       " <segment features=\"math_tags;oper;mult;common;self\" id=\"49\" parent=\"4\" state=\"active\">умножить</segment>,\n",
       " <segment features=\"math_tags;visual;negative;common;self\" id=\"51\" parent=\"4\" state=\"active\">минус</segment>,\n",
       " <segment features=\"math_tags;term;number;common;self\" id=\"50\" parent=\"4\" state=\"active\">пять</segment>,\n",
       " <segment features=\"math_tags;term;number;common;self\" id=\"53\" parent=\"4\" state=\"active\">двадцать</segment>,\n",
       " <segment features=\"math_tags;term;number;common;self\" id=\"54\" parent=\"4\" state=\"active\">пять</segment>,\n",
       " <segment features=\"math_tags;term;number;common;self\" id=\"55\" parent=\"4\" state=\"active\">семь</segment>,\n",
       " <segment features=\"math_tags;term;number;common;self\" id=\"57\" parent=\"4\" state=\"active\">первой</segment>,\n",
       " <segment comment=\"Модель управления: X в Y.ORD.LOC.SG степени; X в степени Y.NOM.SG\" features=\"math_tags;oper;power;common;self\" id=\"56\" parent=\"4\" state=\"active\">степени</segment>,\n",
       " <segment features=\"math_tags;pred;equal;common;self\" id=\"58\" parent=\"4\" state=\"active\">равно</segment>,\n",
       " <segment features=\"math_tags;term;number;common;self\" id=\"59\" parent=\"4\" state=\"active\">семи</segment>,\n",
       " <segment features=\"math_tags\" filename=\"\" id=\"5\" state=\"active\" subcorp=\"\">Стоит записать еще несколько свойств, например: <segment features=\"math_tags;term;number;common;self\" id=\"60\" parent=\"5\" state=\"active\">ноль</segment> в <segment features=\"math_tags;term;var;common;letter;latin;n\" id=\"61\" parent=\"5\" state=\"active\">энной</segment> <segment comment=\"Модель управления: X в Y.ORD.LOC.SG степени; X в степени Y.NOM.SG\" features=\"math_tags;oper;power;common;self\" id=\"62\" parent=\"5\" state=\"active\">степени</segment> <segment features=\"math_tags;pred;equal;common;self\" id=\"63\" parent=\"5\" state=\"active\">равен</segment> <segment features=\"math_tags;term;number;common;self\" id=\"64\" parent=\"5\" state=\"active\">нулю</segment>, <segment features=\"math_tags;term;number;common;self\" id=\"65\" parent=\"5\" state=\"active\">единица</segment> в <segment features=\"math_tags;term;var;common;letter;latin;n\" id=\"66\" parent=\"5\" state=\"active\">энной</segment> <segment comment=\"Модель управления: X в Y.ORD.LOC.SG степени; X в степени Y.NOM.SG\" features=\"math_tags;oper;power;common;self\" id=\"67\" parent=\"5\" state=\"active\">степени</segment> <segment features=\"math_tags;pred;equal;common;self\" id=\"68\" parent=\"5\" state=\"active\">равна</segment> <segment features=\"math_tags;term;number;common;self\" id=\"69\" parent=\"5\" state=\"active\">единице</segment> для любого <segment features=\"math_tags;term;set;nat;common;self\" id=\"150\" parent=\"5\" state=\"active\">натурального</segment> числа <segment features=\"math_tags;term;var;common;letter;latin;n\" id=\"151\" parent=\"5\" state=\"active\">энн</segment>, <segment features=\"math_tags;term;number;common;self\" id=\"152\" parent=\"5\" state=\"active\">ноль</segment> в <segment features=\"math_tags;term;number;common;self\" id=\"153\" parent=\"5\" state=\"active\">нулевой</segment> <segment comment=\"Модель управления: X в Y.ORD.LOC.SG степени; X в степени Y.NOM.SG\" features=\"math_tags;oper;power;common;self\" filename=\"\" id=\"154\" parent=\"5\" state=\"active\" subcorp=\"\">степени</segment> - не определено, такое выражение не определено.</segment>,\n",
       " <segment features=\"math_tags;term;number;common;self\" id=\"60\" parent=\"5\" state=\"active\">ноль</segment>,\n",
       " <segment features=\"math_tags;term;var;common;letter;latin;n\" id=\"61\" parent=\"5\" state=\"active\">энной</segment>,\n",
       " <segment comment=\"Модель управления: X в Y.ORD.LOC.SG степени; X в степени Y.NOM.SG\" features=\"math_tags;oper;power;common;self\" id=\"62\" parent=\"5\" state=\"active\">степени</segment>,\n",
       " <segment features=\"math_tags;pred;equal;common;self\" id=\"63\" parent=\"5\" state=\"active\">равен</segment>,\n",
       " <segment features=\"math_tags;term;number;common;self\" id=\"64\" parent=\"5\" state=\"active\">нулю</segment>,\n",
       " <segment features=\"math_tags;term;number;common;self\" id=\"65\" parent=\"5\" state=\"active\">единица</segment>,\n",
       " <segment features=\"math_tags;term;var;common;letter;latin;n\" id=\"66\" parent=\"5\" state=\"active\">энной</segment>,\n",
       " <segment comment=\"Модель управления: X в Y.ORD.LOC.SG степени; X в степени Y.NOM.SG\" features=\"math_tags;oper;power;common;self\" id=\"67\" parent=\"5\" state=\"active\">степени</segment>,\n",
       " <segment features=\"math_tags;pred;equal;common;self\" id=\"68\" parent=\"5\" state=\"active\">равна</segment>,\n",
       " <segment features=\"math_tags;term;number;common;self\" id=\"69\" parent=\"5\" state=\"active\">единице</segment>,\n",
       " <segment features=\"math_tags;term;set;nat;common;self\" id=\"150\" parent=\"5\" state=\"active\">натурального</segment>,\n",
       " <segment features=\"math_tags;term;var;common;letter;latin;n\" id=\"151\" parent=\"5\" state=\"active\">энн</segment>,\n",
       " <segment features=\"math_tags;term;number;common;self\" id=\"152\" parent=\"5\" state=\"active\">ноль</segment>,\n",
       " <segment features=\"math_tags;term;number;common;self\" id=\"153\" parent=\"5\" state=\"active\">нулевой</segment>,\n",
       " <segment comment=\"Модель управления: X в Y.ORD.LOC.SG степени; X в степени Y.NOM.SG\" features=\"math_tags;oper;power;common;self\" filename=\"\" id=\"154\" parent=\"5\" state=\"active\" subcorp=\"\">степени</segment>,\n",
       " <segment features=\"math_tags\" filename=\"\" id=\"6\" state=\"active\" subcorp=\"\">Свойства <segment comment=\"Модель управления: X в Y.ORD.LOC.SG степени; X в степени Y.NOM.SG\" features=\"math_tags;oper;power;common;self\" filename=\"\" id=\"155\" parent=\"6\" state=\"active\" subcorp=\"\">степеней</segment>.</segment>,\n",
       " <segment comment=\"Модель управления: X в Y.ORD.LOC.SG степени; X в степени Y.NOM.SG\" features=\"math_tags;oper;power;common;self\" filename=\"\" id=\"155\" parent=\"6\" state=\"active\" subcorp=\"\">степеней</segment>,\n",
       " <segment features=\"math_tags\" filename=\"\" id=\"7\" state=\"active\" subcorp=\"\">Первое свойство: <segment features=\"math_tags;term;var;common;letter;latin;a\" id=\"74\" parent=\"7\" state=\"active\">а</segment> в <segment features=\"math_tags;term;var;common;letter;latin;m\" id=\"71\" parent=\"7\" state=\"active\">эммой</segment> <segment comment=\"Модель управления: X в Y.ORD.LOC.SG степени; X в степени Y.NOM.SG\" features=\"math_tags;oper;power;common;self\" id=\"72\" parent=\"7\" state=\"active\">степени</segment> <segment features=\"math_tags;oper;mult;common;self\" id=\"73\" parent=\"7\" state=\"active\">умноженное</segment> на <segment features=\"math_tags;term;var;common;letter;latin;a\" id=\"76\" parent=\"7\" state=\"active\">а</segment> в <segment features=\"math_tags;term;var;common;letter;latin;n\" id=\"77\" parent=\"7\" state=\"active\">энной</segment> <segment comment=\"Модель управления: X в Y.ORD.LOC.SG степени; X в степени Y.NOM.SG\" features=\"math_tags;oper;power;common;self\" id=\"78\" parent=\"7\" state=\"active\">степени</segment> <segment features=\"math_tags;pred;equal;common;self\" id=\"79\" parent=\"7\" state=\"active\">равняется</segment> <segment features=\"math_tags;term;var;common;letter;latin;a\" id=\"80\" parent=\"7\" state=\"active\">а</segment> в <segment features=\"math_tags;oper;power;common;self\" id=\"81\" parent=\"7\" state=\"active\">степени</segment> <segment features=\"math_tags;term;var;common;letter;latin;m\" id=\"82\" parent=\"7\" state=\"active\">эмм</segment> <segment features=\"math_tags;oper;add;common;self\" id=\"83\" parent=\"7\" state=\"active\">плюс</segment> <segment features=\"math_tags;term;var;common;letter;latin;n\" filename=\"\" id=\"84\" parent=\"7\" state=\"active\" subcorp=\"\">энн</segment>.</segment>,\n",
       " <segment features=\"math_tags;term;var;common;letter;latin;a\" id=\"74\" parent=\"7\" state=\"active\">а</segment>,\n",
       " <segment features=\"math_tags;term;var;common;letter;latin;m\" id=\"71\" parent=\"7\" state=\"active\">эммой</segment>,\n",
       " <segment comment=\"Модель управления: X в Y.ORD.LOC.SG степени; X в степени Y.NOM.SG\" features=\"math_tags;oper;power;common;self\" id=\"72\" parent=\"7\" state=\"active\">степени</segment>,\n",
       " <segment features=\"math_tags;oper;mult;common;self\" id=\"73\" parent=\"7\" state=\"active\">умноженное</segment>,\n",
       " <segment features=\"math_tags;term;var;common;letter;latin;a\" id=\"76\" parent=\"7\" state=\"active\">а</segment>,\n",
       " <segment features=\"math_tags;term;var;common;letter;latin;n\" id=\"77\" parent=\"7\" state=\"active\">энной</segment>,\n",
       " <segment comment=\"Модель управления: X в Y.ORD.LOC.SG степени; X в степени Y.NOM.SG\" features=\"math_tags;oper;power;common;self\" id=\"78\" parent=\"7\" state=\"active\">степени</segment>,\n",
       " <segment features=\"math_tags;pred;equal;common;self\" id=\"79\" parent=\"7\" state=\"active\">равняется</segment>,\n",
       " <segment features=\"math_tags;term;var;common;letter;latin;a\" id=\"80\" parent=\"7\" state=\"active\">а</segment>,\n",
       " <segment features=\"math_tags;oper;power;common;self\" id=\"81\" parent=\"7\" state=\"active\">степени</segment>,\n",
       " <segment features=\"math_tags;term;var;common;letter;latin;m\" id=\"82\" parent=\"7\" state=\"active\">эмм</segment>,\n",
       " <segment features=\"math_tags;oper;add;common;self\" id=\"83\" parent=\"7\" state=\"active\">плюс</segment>,\n",
       " <segment features=\"math_tags;term;var;common;letter;latin;n\" filename=\"\" id=\"84\" parent=\"7\" state=\"active\" subcorp=\"\">энн</segment>,\n",
       " <segment features=\"math_tags\" filename=\"\" id=\"8\" state=\"active\" subcorp=\"\">Проиллюстрируем это свойство на примере: <segment features=\"math_tags;term;number;common;self\" filename=\"\" id=\"90\" parent=\"8\" state=\"active\" subcorp=\"\">два</segment> в <segment features=\"math_tags;term;number;common;self\" id=\"91\" parent=\"8\" state=\"active\">пятой</segment> <segment comment=\"Модель управления: X в Y.ORD.LOC.SG степени; X в степени Y.NOM.SG\" features=\"math_tags;oper;power;common;self\" id=\"92\" parent=\"8\" state=\"active\">степени</segment> <segment features=\"math_tags;oper;mult;common;self\" id=\"93\" parent=\"8\" state=\"active\">умножим</segment> на <segment features=\"math_tags;term;number;common;self\" id=\"94\" parent=\"8\" state=\"active\">два</segment> в <segment features=\"math_tags;term;number;common;self\" id=\"95\" parent=\"8\" state=\"active\">третьей</segment> <segment features=\"math_tags;oper;power;common;self\" id=\"96\" parent=\"8\" state=\"active\">степени</segment>, значит свойство это говорит о следующем: при <segment features=\"math_tags;oper;mult;common;self\" id=\"97\" parent=\"8\" state=\"active\">умножении</segment> степеней с одинаковыми <segment features=\"math_tags;visual;base;common;self\" id=\"99\" parent=\"8\" state=\"active\">основаниями</segment> <segment features=\"math_tags;term;var;common;letter;latin;a\" id=\"100\" parent=\"8\" state=\"active\">а</segment>, <segment features=\"math_tags;visual;superscript;common;self\" id=\"101\" parent=\"8\" state=\"active\">показатели</segment> <segment comment=\"Модель управления: X в Y.ORD.LOC.SG степени; X в степени Y.NOM.SG\" features=\"math_tags;oper;power;common;self\" id=\"102\" parent=\"8\" state=\"active\">степеней</segment> нужно <segment features=\"math_tags;oper;add;common;self\" id=\"104\" parent=\"8\" state=\"active\">сложить</segment>, в нашем примере <segment features=\"math_tags;visual;base;common;self\" id=\"105\" parent=\"8\" state=\"active\">основания</segment> <segment comment=\"Модель управления: X в Y.ORD.LOC.SG степени; X в степени Y.NOM.SG\" features=\"math_tags;oper;power;common;self\" id=\"136\" parent=\"8\" state=\"active\">степеней</segment> <segment features=\"math_tags;pred;equal;common;self\" id=\"137\" parent=\"8\" state=\"active\">одинаковые</segment>, числа <segment features=\"math_tags;term;number;common;self\" id=\"138\" parent=\"8\" state=\"active\">двойки</segment>, для того, чтобы их <segment features=\"math_tags;oper;mult;common;self\" id=\"139\" parent=\"8\" state=\"active\">перемножить</segment>, такие степени, необходимо <segment features=\"math_tags;visual;superscript;common;self\" id=\"141\" parent=\"8\" state=\"active\">показатели</segment> <segment features=\"math_tags;oper;add;common;self\" id=\"140\" parent=\"8\" state=\"active\">сложить</segment>: <segment features=\"math_tags;term;number;common;self\" id=\"142\" parent=\"8\" state=\"active\">пять</segment> <segment features=\"math_tags;oper;add;common;self\" id=\"143\" parent=\"8\" state=\"active\">плюс</segment> <segment features=\"math_tags;term;number;common;self\" id=\"144\" parent=\"8\" state=\"active\">три</segment> <segment features=\"math_tags;pred;equal;common;self\" id=\"145\" parent=\"8\" state=\"active\">равно</segment> <segment features=\"math_tags;term;number;common;self\" id=\"146\" parent=\"8\" state=\"active\">восьми</segment>, получим <segment features=\"math_tags;term;number;common;self\" id=\"147\" parent=\"8\" state=\"active\">два</segment> в <segment features=\"math_tags;term;number;common;self\" id=\"148\" parent=\"8\" state=\"active\">восьмой</segment> <segment comment=\"Модель управления: X в Y.ORD.LOC.SG степени; X в степени Y.NOM.SG\" features=\"math_tags;oper;power;common;self\" id=\"149\" parent=\"8\" state=\"active\">степени</segment>. Второе свойство: при <segment features=\"math_tags;oper;div;common;self\" id=\"89\" parent=\"8\" state=\"active\">делении</segment> <segment features=\"math_tags;term;result;common;self\" id=\"106\" parent=\"8\" state=\"active\"><segment comment=\"Модель управления: X в Y.ORD.LOC.SG степени; X в степени Y.NOM.SG\" features=\"math_tags;oper;power;common;self\" id=\"107\" parent=\"106\" state=\"active\">степеней</segment></segment> с одинаковыми <segment features=\"math_tags;visual;base;common;self\" id=\"108\" parent=\"8\" state=\"active\">основаниями</segment> <segment features=\"math_tags;visual;superscript;common;self\" id=\"109\" parent=\"8\" state=\"active\">показатели</segment> <segment features=\"math_tags;oper;sub;common;self\" id=\"88\" parent=\"8\" state=\"active\">вычитают</segment>.</segment>,\n",
       " <segment features=\"math_tags;term;number;common;self\" filename=\"\" id=\"90\" parent=\"8\" state=\"active\" subcorp=\"\">два</segment>,\n",
       " <segment features=\"math_tags;term;number;common;self\" id=\"91\" parent=\"8\" state=\"active\">пятой</segment>,\n",
       " <segment comment=\"Модель управления: X в Y.ORD.LOC.SG степени; X в степени Y.NOM.SG\" features=\"math_tags;oper;power;common;self\" id=\"92\" parent=\"8\" state=\"active\">степени</segment>,\n",
       " <segment features=\"math_tags;oper;mult;common;self\" id=\"93\" parent=\"8\" state=\"active\">умножим</segment>,\n",
       " <segment features=\"math_tags;term;number;common;self\" id=\"94\" parent=\"8\" state=\"active\">два</segment>,\n",
       " <segment features=\"math_tags;term;number;common;self\" id=\"95\" parent=\"8\" state=\"active\">третьей</segment>,\n",
       " <segment features=\"math_tags;oper;power;common;self\" id=\"96\" parent=\"8\" state=\"active\">степени</segment>,\n",
       " <segment features=\"math_tags;oper;mult;common;self\" id=\"97\" parent=\"8\" state=\"active\">умножении</segment>,\n",
       " <segment features=\"math_tags;visual;base;common;self\" id=\"99\" parent=\"8\" state=\"active\">основаниями</segment>,\n",
       " <segment features=\"math_tags;term;var;common;letter;latin;a\" id=\"100\" parent=\"8\" state=\"active\">а</segment>,\n",
       " <segment features=\"math_tags;visual;superscript;common;self\" id=\"101\" parent=\"8\" state=\"active\">показатели</segment>,\n",
       " <segment comment=\"Модель управления: X в Y.ORD.LOC.SG степени; X в степени Y.NOM.SG\" features=\"math_tags;oper;power;common;self\" id=\"102\" parent=\"8\" state=\"active\">степеней</segment>,\n",
       " <segment features=\"math_tags;oper;add;common;self\" id=\"104\" parent=\"8\" state=\"active\">сложить</segment>,\n",
       " <segment features=\"math_tags;visual;base;common;self\" id=\"105\" parent=\"8\" state=\"active\">основания</segment>,\n",
       " <segment comment=\"Модель управления: X в Y.ORD.LOC.SG степени; X в степени Y.NOM.SG\" features=\"math_tags;oper;power;common;self\" id=\"136\" parent=\"8\" state=\"active\">степеней</segment>,\n",
       " <segment features=\"math_tags;pred;equal;common;self\" id=\"137\" parent=\"8\" state=\"active\">одинаковые</segment>,\n",
       " <segment features=\"math_tags;term;number;common;self\" id=\"138\" parent=\"8\" state=\"active\">двойки</segment>,\n",
       " <segment features=\"math_tags;oper;mult;common;self\" id=\"139\" parent=\"8\" state=\"active\">перемножить</segment>,\n",
       " <segment features=\"math_tags;visual;superscript;common;self\" id=\"141\" parent=\"8\" state=\"active\">показатели</segment>,\n",
       " <segment features=\"math_tags;oper;add;common;self\" id=\"140\" parent=\"8\" state=\"active\">сложить</segment>,\n",
       " <segment features=\"math_tags;term;number;common;self\" id=\"142\" parent=\"8\" state=\"active\">пять</segment>,\n",
       " <segment features=\"math_tags;oper;add;common;self\" id=\"143\" parent=\"8\" state=\"active\">плюс</segment>,\n",
       " <segment features=\"math_tags;term;number;common;self\" id=\"144\" parent=\"8\" state=\"active\">три</segment>,\n",
       " <segment features=\"math_tags;pred;equal;common;self\" id=\"145\" parent=\"8\" state=\"active\">равно</segment>,\n",
       " <segment features=\"math_tags;term;number;common;self\" id=\"146\" parent=\"8\" state=\"active\">восьми</segment>,\n",
       " <segment features=\"math_tags;term;number;common;self\" id=\"147\" parent=\"8\" state=\"active\">два</segment>,\n",
       " <segment features=\"math_tags;term;number;common;self\" id=\"148\" parent=\"8\" state=\"active\">восьмой</segment>,\n",
       " <segment comment=\"Модель управления: X в Y.ORD.LOC.SG степени; X в степени Y.NOM.SG\" features=\"math_tags;oper;power;common;self\" id=\"149\" parent=\"8\" state=\"active\">степени</segment>,\n",
       " <segment features=\"math_tags;oper;div;common;self\" id=\"89\" parent=\"8\" state=\"active\">делении</segment>,\n",
       " <segment features=\"math_tags;term;result;common;self\" id=\"106\" parent=\"8\" state=\"active\"><segment comment=\"Модель управления: X в Y.ORD.LOC.SG степени; X в степени Y.NOM.SG\" features=\"math_tags;oper;power;common;self\" id=\"107\" parent=\"106\" state=\"active\">степеней</segment></segment>,\n",
       " <segment comment=\"Модель управления: X в Y.ORD.LOC.SG степени; X в степени Y.NOM.SG\" features=\"math_tags;oper;power;common;self\" id=\"107\" parent=\"106\" state=\"active\">степеней</segment>,\n",
       " <segment features=\"math_tags;visual;base;common;self\" id=\"108\" parent=\"8\" state=\"active\">основаниями</segment>,\n",
       " <segment features=\"math_tags;visual;superscript;common;self\" id=\"109\" parent=\"8\" state=\"active\">показатели</segment>,\n",
       " <segment features=\"math_tags;oper;sub;common;self\" id=\"88\" parent=\"8\" state=\"active\">вычитают</segment>,\n",
       " <segment features=\"math_tags\" id=\"16\" state=\"active\"><segment features=\"math_tags;visual;superscript;common;self\" id=\"116\" parent=\"16\" state=\"active\">Показатель</segment> <segment features=\"math_tags;term\" id=\"115\" parent=\"16\" state=\"active\">делимого</segment>, из <segment features=\"math_tags;visual;superscript;common;self\" id=\"117\" parent=\"16\" state=\"active\">показателя</segment> <segment features=\"math_tags;term\" id=\"118\" parent=\"16\" state=\"active\">делимого</segment> <segment features=\"math_tags;oper;sub;common;self\" id=\"119\" parent=\"16\" state=\"active\">вычитают</segment> <segment features=\"math_tags;visual;superscript;common;self\" id=\"120\" parent=\"16\" state=\"active\">показатель</segment> <segment features=\"math_tags;term\" filename=\"\" id=\"121\" parent=\"16\" state=\"active\" subcorp=\"\">делителя</segment>.</segment>,\n",
       " <segment features=\"math_tags;visual;superscript;common;self\" id=\"116\" parent=\"16\" state=\"active\">Показатель</segment>,\n",
       " <segment features=\"math_tags;term\" id=\"115\" parent=\"16\" state=\"active\">делимого</segment>,\n",
       " <segment features=\"math_tags;visual;superscript;common;self\" id=\"117\" parent=\"16\" state=\"active\">показателя</segment>,\n",
       " <segment features=\"math_tags;term\" id=\"118\" parent=\"16\" state=\"active\">делимого</segment>,\n",
       " <segment features=\"math_tags;oper;sub;common;self\" id=\"119\" parent=\"16\" state=\"active\">вычитают</segment>,\n",
       " <segment features=\"math_tags;visual;superscript;common;self\" id=\"120\" parent=\"16\" state=\"active\">показатель</segment>,\n",
       " <segment features=\"math_tags;term\" filename=\"\" id=\"121\" parent=\"16\" state=\"active\" subcorp=\"\">делителя</segment>,\n",
       " <segment features=\"math_tags\" id=\"26\" state=\"active\">Например: <segment features=\"math_tags;term;number;common;self\" filename=\"\" id=\"122\" parent=\"26\" state=\"active\" subcorp=\"\">два</segment> в <segment features=\"math_tags;term;number;common;self\" id=\"123\" parent=\"26\" state=\"active\">пятой</segment> <segment comment=\"Модель управления: X в Y.ORD.LOC.SG степени; X в степени Y.NOM.SG\" features=\"math_tags;oper;power;common;self\" id=\"124\" parent=\"26\" state=\"active\">степени</segment> <segment features=\"math_tags;oper;div;common;self\" id=\"125\" parent=\"26\" state=\"active\">разделим</segment> на <segment features=\"math_tags;term;number;common;self\" id=\"126\" parent=\"26\" state=\"active\">два</segment> в <segment features=\"math_tags;term;number;common;self\" id=\"127\" parent=\"26\" state=\"active\">третьей</segment> <segment comment=\"Модель управления: X в Y.ORD.LOC.SG степени; X в степени Y.NOM.SG\" features=\"math_tags;oper;power;common;self\" id=\"128\" parent=\"26\" state=\"active\">степени</segment>, <segment features=\"math_tags;oper;sub;common;self\" id=\"129\" parent=\"26\" state=\"active\">вычитаем</segment> <segment features=\"math_tags;visual;superscript;common;self\" id=\"130\" parent=\"26\" state=\"active\">показатели</segment>, <segment features=\"math_tags;comment;get;common;self\" id=\"132\" parent=\"26\" state=\"active\">получаем</segment> <segment features=\"math_tags;term;number;common;self\" id=\"131\" parent=\"26\" state=\"active\">два</segment> во <segment features=\"math_tags;term;number;common;self\" id=\"133\" parent=\"26\" state=\"active\">второй</segment> <segment comment=\"Модель управления: X в Y.ORD.LOC.SG степени; X в степени Y.NOM.SG\" features=\"math_tags;oper;power;common;self\" id=\"134\" parent=\"26\" state=\"active\">степени</segment> и <segment features=\"math_tags;term;number;common;self\" id=\"135\" parent=\"26\" state=\"active\">четыре</segment>.</segment>,\n",
       " <segment features=\"math_tags;term;number;common;self\" filename=\"\" id=\"122\" parent=\"26\" state=\"active\" subcorp=\"\">два</segment>,\n",
       " <segment features=\"math_tags;term;number;common;self\" id=\"123\" parent=\"26\" state=\"active\">пятой</segment>,\n",
       " <segment comment=\"Модель управления: X в Y.ORD.LOC.SG степени; X в степени Y.NOM.SG\" features=\"math_tags;oper;power;common;self\" id=\"124\" parent=\"26\" state=\"active\">степени</segment>,\n",
       " <segment features=\"math_tags;oper;div;common;self\" id=\"125\" parent=\"26\" state=\"active\">разделим</segment>,\n",
       " <segment features=\"math_tags;term;number;common;self\" id=\"126\" parent=\"26\" state=\"active\">два</segment>,\n",
       " <segment features=\"math_tags;term;number;common;self\" id=\"127\" parent=\"26\" state=\"active\">третьей</segment>,\n",
       " <segment comment=\"Модель управления: X в Y.ORD.LOC.SG степени; X в степени Y.NOM.SG\" features=\"math_tags;oper;power;common;self\" id=\"128\" parent=\"26\" state=\"active\">степени</segment>,\n",
       " <segment features=\"math_tags;oper;sub;common;self\" id=\"129\" parent=\"26\" state=\"active\">вычитаем</segment>,\n",
       " <segment features=\"math_tags;visual;superscript;common;self\" id=\"130\" parent=\"26\" state=\"active\">показатели</segment>,\n",
       " <segment features=\"math_tags;comment;get;common;self\" id=\"132\" parent=\"26\" state=\"active\">получаем</segment>,\n",
       " <segment features=\"math_tags;term;number;common;self\" id=\"131\" parent=\"26\" state=\"active\">два</segment>,\n",
       " <segment features=\"math_tags;term;number;common;self\" id=\"133\" parent=\"26\" state=\"active\">второй</segment>,\n",
       " <segment comment=\"Модель управления: X в Y.ORD.LOC.SG степени; X в степени Y.NOM.SG\" features=\"math_tags;oper;power;common;self\" id=\"134\" parent=\"26\" state=\"active\">степени</segment>,\n",
       " <segment features=\"math_tags;term;number;common;self\" id=\"135\" parent=\"26\" state=\"active\">четыре</segment>]"
      ]
     },
     "execution_count": 13,
     "metadata": {},
     "output_type": "execute_result"
    }
   ],
   "source": [
    "segs = bs_data.find_all('segment')\n",
    "segs"
   ]
  },
  {
   "cell_type": "code",
   "execution_count": 88,
   "id": "48df2930",
   "metadata": {},
   "outputs": [
    {
     "data": {
      "text/plain": [
       "3"
      ]
     },
     "execution_count": 88,
     "metadata": {},
     "output_type": "execute_result"
    }
   ],
   "source": [
    "db.add_text('Степень с натуральным показателем.')"
   ]
  },
  {
   "cell_type": "code",
   "execution_count": 19,
   "id": "851a6dff",
   "metadata": {},
   "outputs": [],
   "source": [
    "t = 'Определение степени: а в энной степени равняется произведению энн множителей, каждый из которых равен а, где энн - число натуральное. Считается, что а в первой степени равняется а.'"
   ]
  },
  {
   "cell_type": "code",
   "execution_count": 28,
   "id": "c79719cf",
   "metadata": {},
   "outputs": [],
   "source": [
    "sent = list(nlp(t).sents)[0]"
   ]
  },
  {
   "cell_type": "code",
   "execution_count": 52,
   "id": "81d247bd",
   "metadata": {},
   "outputs": [
    {
     "data": {
      "text/plain": [
       "[Например,\n",
       " :,\n",
       " два,\n",
       " в,\n",
       " пятой,\n",
       " степени,\n",
       " разделим,\n",
       " на,\n",
       " два,\n",
       " в,\n",
       " третьей,\n",
       " степени,\n",
       " ,,\n",
       " вычитаем,\n",
       " показатели,\n",
       " ,,\n",
       " получаем,\n",
       " два,\n",
       " во,\n",
       " второй,\n",
       " степени,\n",
       " и,\n",
       " четыре,\n",
       " .]"
      ]
     },
     "execution_count": 52,
     "metadata": {},
     "output_type": "execute_result"
    }
   ],
   "source": [
    "list(sent)"
   ]
  },
  {
   "cell_type": "code",
   "execution_count": 107,
   "id": "f0d5b915",
   "metadata": {},
   "outputs": [
    {
     "ename": "OperationalError",
     "evalue": "near \"?\": syntax error",
     "output_type": "error",
     "traceback": [
      "\u001b[1;31m---------------------------------------------------------------------------\u001b[0m",
      "\u001b[1;31mOperationalError\u001b[0m                          Traceback (most recent call last)",
      "Input \u001b[1;32mIn [107]\u001b[0m, in \u001b[0;36m<cell line: 2>\u001b[1;34m()\u001b[0m\n\u001b[0;32m      1\u001b[0m lemmas \u001b[38;5;241m=\u001b[39m [\u001b[38;5;124m'\u001b[39m\u001b[38;5;124mвычитать\u001b[39m\u001b[38;5;124m'\u001b[39m, \u001b[38;5;124m'\u001b[39m\u001b[38;5;124mстепень\u001b[39m\u001b[38;5;124m'\u001b[39m, \u001b[38;5;124m'\u001b[39m\u001b[38;5;124mдва\u001b[39m\u001b[38;5;124m'\u001b[39m]\n\u001b[1;32m----> 2\u001b[0m \u001b[43mdb\u001b[49m\u001b[38;5;241;43m.\u001b[39;49m\u001b[43madd_lemmas\u001b[49m\u001b[43m(\u001b[49m\u001b[43mlemmas\u001b[49m\u001b[43m)\u001b[49m\n",
      "Input \u001b[1;32mIn [106]\u001b[0m, in \u001b[0;36mDBHandler.add_lemmas\u001b[1;34m(self, lemmas)\u001b[0m\n\u001b[0;32m     57\u001b[0m \u001b[38;5;28;01mdef\u001b[39;00m \u001b[38;5;21madd_lemmas\u001b[39m(\u001b[38;5;28mself\u001b[39m, lemmas):\n\u001b[1;32m---> 58\u001b[0m     \u001b[38;5;28;43mself\u001b[39;49m\u001b[38;5;241;43m.\u001b[39;49m\u001b[43mcur\u001b[49m\u001b[38;5;241;43m.\u001b[39;49m\u001b[43mexecutemany\u001b[49m\u001b[43m(\u001b[49m\u001b[38;5;124;43m'''\u001b[39;49m\u001b[38;5;124;43mINSERT or IGNORE\u001b[39;49m\n\u001b[0;32m     59\u001b[0m \u001b[38;5;124;43m                        INTO lemma (name)\u001b[39;49m\n\u001b[0;32m     60\u001b[0m \u001b[38;5;124;43m                        VALUES ?\u001b[39;49m\u001b[38;5;124;43m'''\u001b[39;49m\u001b[43m,\u001b[49m\u001b[43m \u001b[49m\u001b[43mlemmas\u001b[49m\u001b[43m)\u001b[49m\n\u001b[0;32m     61\u001b[0m     \u001b[38;5;28mself\u001b[39m\u001b[38;5;241m.\u001b[39mcur\u001b[38;5;241m.\u001b[39mcommit()\n\u001b[0;32m     63\u001b[0m     \u001b[38;5;28mself\u001b[39m\u001b[38;5;241m.\u001b[39mcur\u001b[38;5;241m.\u001b[39mexecute(\u001b[38;5;124m'''\u001b[39m\u001b[38;5;124mSELECT id\u001b[39m\n\u001b[0;32m     64\u001b[0m \u001b[38;5;124m                        FROM lemma\u001b[39m\n\u001b[0;32m     65\u001b[0m \u001b[38;5;124m                        WHERE name IN ?\u001b[39m\u001b[38;5;124m'''\u001b[39m, lemmas)\n",
      "\u001b[1;31mOperationalError\u001b[0m: near \"?\": syntax error"
     ]
    }
   ],
   "source": [
    "lemmas = ['вычитать', 'степень', 'два']\n",
    "db.add_lemmas(lemmas)"
   ]
  },
  {
   "cell_type": "code",
   "execution_count": 82,
   "id": "db0cc760",
   "metadata": {},
   "outputs": [
    {
     "name": "stdout",
     "output_type": "stream",
     "text": [
      "Например\n"
     ]
    }
   ],
   "source": [
    "word_counts = tuple(range(len(sent)))\n",
    "tokens = list(sent)\n",
    "sent_id = 3\n",
    "# for t in sent:\n",
    "#     print(t)\n",
    "print(tokens[0].text)\n",
    "to_write = [(sent_id, i, tokens[i].text) for i in word_counts]"
   ]
  },
  {
   "cell_type": "code",
   "execution_count": 83,
   "id": "2fc20184",
   "metadata": {},
   "outputs": [
    {
     "data": {
      "text/plain": [
       "[(3, 0, 'Например'),\n",
       " (3, 1, ':'),\n",
       " (3, 2, 'два'),\n",
       " (3, 3, 'в'),\n",
       " (3, 4, 'пятой'),\n",
       " (3, 5, 'степени'),\n",
       " (3, 6, 'разделим'),\n",
       " (3, 7, 'на'),\n",
       " (3, 8, 'два'),\n",
       " (3, 9, 'в'),\n",
       " (3, 10, 'третьей'),\n",
       " (3, 11, 'степени'),\n",
       " (3, 12, ','),\n",
       " (3, 13, 'вычитаем'),\n",
       " (3, 14, 'показатели'),\n",
       " (3, 15, ','),\n",
       " (3, 16, 'получаем'),\n",
       " (3, 17, 'два'),\n",
       " (3, 18, 'во'),\n",
       " (3, 19, 'второй'),\n",
       " (3, 20, 'степени'),\n",
       " (3, 21, 'и'),\n",
       " (3, 22, 'четыре'),\n",
       " (3, 23, '.')]"
      ]
     },
     "execution_count": 83,
     "metadata": {},
     "output_type": "execute_result"
    }
   ],
   "source": [
    "to_write"
   ]
  },
  {
   "cell_type": "code",
   "execution_count": 99,
   "id": "82c62822",
   "metadata": {},
   "outputs": [
    {
     "name": "stdout",
     "output_type": "stream",
     "text": [
      "3\n"
     ]
    }
   ],
   "source": [
    "ids = db.add_tokens(to_write)"
   ]
  },
  {
   "cell_type": "code",
   "execution_count": 100,
   "id": "b9a990ab",
   "metadata": {},
   "outputs": [
    {
     "data": {
      "text/plain": [
       "[97,\n",
       " 98,\n",
       " 99,\n",
       " 100,\n",
       " 101,\n",
       " 102,\n",
       " 103,\n",
       " 104,\n",
       " 105,\n",
       " 106,\n",
       " 107,\n",
       " 108,\n",
       " 109,\n",
       " 110,\n",
       " 111,\n",
       " 112,\n",
       " 113,\n",
       " 114,\n",
       " 115,\n",
       " 116,\n",
       " 117,\n",
       " 118,\n",
       " 119,\n",
       " 120]"
      ]
     },
     "execution_count": 100,
     "metadata": {},
     "output_type": "execute_result"
    }
   ],
   "source": [
    "ids"
   ]
  },
  {
   "cell_type": "code",
   "execution_count": 49,
   "id": "ccd90e8f",
   "metadata": {},
   "outputs": [
    {
     "name": "stdout",
     "output_type": "stream",
     "text": [
      "[Степень с натуральным показателем.]\n",
      "Степень с натуральным показателем.\n",
      "Степень math_tags;oper;power\n",
      "натуральным math_tags;term;set;nat\n",
      "показателем math_tags;visual;superscript\n",
      "[Определение степени: а в энной степени равняется произведению энн множителей, каждый из которых равен а, где энн - число натуральное., Считается, что а в первой степени равняется а.]\n",
      "Определение степени: а в энной степени равняется произведению энн множителей, каждый из которых равен а, где энн - число натуральное.\n",
      "Считается, что а в первой степени равняется а.\n",
      "Определение math_tags;comment;definition\n",
      "степени math_tags;oper;power\n",
      "а math_tags;term;var;common;letter;latin;a\n",
      "энной math_tags;term;var;common;letter;latin;n\n",
      "степени math_tags;oper;power\n",
      "равняется math_tags;pred;equal\n",
      "произведению math_tags;oper;mult;common;self\n",
      "энн math_tags;term;var;common;letter;latin;n\n",
      "множителей math_tags;term\n",
      "равен math_tags;pred;equal;common;self\n",
      "а math_tags;term;var;common;letter;latin;a\n",
      "энн math_tags;term;var;common;letter;latin;n\n",
      "натуральное. math_tags;term;set;nat;common;self\n",
      "а math_tags;term;var;common;letter;latin;a\n",
      "первой math_tags;term;number;common;self\n",
      "степени math_tags;oper;power;common;self\n",
      "равняется math_tags;pred;equal\n",
      "а math_tags;term;var;common;letter;latin;a\n",
      "[Например, три в третьей степени - это произведение трех троек, равно такое произведение числу двадцать семь.]\n",
      "Например, три в третьей степени - это произведение трех троек, равно такое произведение числу двадцать семь.\n",
      "три math_tags;term;number;common;self\n",
      "третьей math_tags;term;number;common;self\n",
      "степени math_tags;oper;power;common;self\n",
      "произведение math_tags;oper;mult;common;self\n",
      "трех math_tags;term;number;common;self\n",
      "троек math_tags;term;number;common;self\n",
      "равно math_tags;pred;equal;common;self\n",
      "произведение math_tags;oper;mult;common;self\n",
      "двадцать math_tags;term;number;common;self\n",
      "семь math_tags;term;number;common;self\n",
      "[Минус пять во второй степени: для того, чтобы вычислить нужно минус пять умножить на минус пять, получим двадцать пять, семь в первой степени равно семи.]\n",
      "Минус пять во второй степени: для того, чтобы вычислить нужно минус пять умножить на минус пять, получим двадцать пять, семь в первой степени равно семи.\n",
      "Минус math_tags;visual;negative;common;self\n",
      "пять math_tags;term;number;common;self\n",
      "второй math_tags;term;number;common;self\n",
      "степени math_tags;oper;power;common;self\n",
      "минус math_tags;visual;negative;common;self\n",
      "пять math_tags;term;number;common;self\n",
      "умножить math_tags;oper;mult;common;self\n",
      "минус math_tags;visual;negative;common;self\n",
      "пять math_tags;term;number;common;self\n",
      "двадцать math_tags;term;number;common;self\n",
      "пять math_tags;term;number;common;self\n",
      "семь math_tags;term;number;common;self\n",
      "первой math_tags;term;number;common;self\n",
      "степени math_tags;oper;power;common;self\n",
      "равно math_tags;pred;equal;common;self\n",
      "семи math_tags;term;number;common;self\n",
      "[Стоит записать еще несколько свойств, например: ноль в энной степени равен нулю, единица в энной степени равна единице для любого натурального числа энн, ноль в нулевой степени - не определено, такое выражение не определено.]\n",
      "Стоит записать еще несколько свойств, например: ноль в энной степени равен нулю, единица в энной степени равна единице для любого натурального числа энн, ноль в нулевой степени - не определено, такое выражение не определено.\n",
      "ноль math_tags;term;number;common;self\n",
      "энной math_tags;term;var;common;letter;latin;n\n",
      "степени math_tags;oper;power;common;self\n",
      "равен math_tags;pred;equal;common;self\n",
      "нулю math_tags;term;number;common;self\n",
      "единица math_tags;term;number;common;self\n",
      "энной math_tags;term;var;common;letter;latin;n\n",
      "степени math_tags;oper;power;common;self\n",
      "равна math_tags;pred;equal;common;self\n",
      "единице math_tags;term;number;common;self\n",
      "натурального math_tags;term;set;nat;common;self\n",
      "энн math_tags;term;var;common;letter;latin;n\n",
      "ноль math_tags;term;number;common;self\n",
      "нулевой math_tags;term;number;common;self\n",
      "степени math_tags;oper;power;common;self\n",
      "[Свойства степеней.]\n",
      "Свойства степеней.\n",
      "степеней math_tags;oper;power;common;self\n",
      "[Первое свойство: а в эммой степени умноженное на а в энной степени равняется а в степени эмм плюс энн.]\n",
      "Первое свойство: а в эммой степени умноженное на а в энной степени равняется а в степени эмм плюс энн.\n",
      "а math_tags;term;var;common;letter;latin;a\n",
      "эммой math_tags;term;var;common;letter;latin;m\n",
      "степени math_tags;oper;power;common;self\n",
      "умноженное math_tags;oper;mult;common;self\n",
      "а math_tags;term;var;common;letter;latin;a\n",
      "энной math_tags;term;var;common;letter;latin;n\n",
      "степени math_tags;oper;power;common;self\n",
      "равняется math_tags;pred;equal;common;self\n",
      "а math_tags;term;var;common;letter;latin;a\n",
      "степени math_tags;oper;power;common;self\n",
      "эмм math_tags;term;var;common;letter;latin;m\n",
      "плюс math_tags;oper;add;common;self\n",
      "энн math_tags;term;var;common;letter;latin;n\n",
      "[Проиллюстрируем это свойство на примере: два в пятой степени умножим на два в третьей степени, значит свойство это говорит о следующем: при умножении степеней с одинаковыми основаниями а, показатели степеней нужно сложить, в нашем примере основания степеней одинаковые, числа двойки, для того, чтобы их перемножить, такие степени, необходимо показатели сложить: пять плюс три равно восьми, получим два в восьмой степени., Второе свойство: при делении степеней с одинаковыми основаниями показатели вычитают.]\n",
      "Проиллюстрируем это свойство на примере: два в пятой степени умножим на два в третьей степени, значит свойство это говорит о следующем: при умножении степеней с одинаковыми основаниями а, показатели степеней нужно сложить, в нашем примере основания степеней одинаковые, числа двойки, для того, чтобы их перемножить, такие степени, необходимо показатели сложить: пять плюс три равно восьми, получим два в восьмой степени.\n",
      "Второе свойство: при делении степеней с одинаковыми основаниями показатели вычитают.\n",
      "два math_tags;term;number;common;self\n",
      "пятой math_tags;term;number;common;self\n",
      "степени math_tags;oper;power;common;self\n",
      "умножим math_tags;oper;mult;common;self\n",
      "два math_tags;term;number;common;self\n",
      "третьей math_tags;term;number;common;self\n",
      "степени math_tags;oper;power;common;self\n",
      "умножении math_tags;oper;mult;common;self\n",
      "основаниями math_tags;visual;base;common;self\n",
      "а math_tags;term;var;common;letter;latin;a\n",
      "показатели math_tags;visual;superscript;common;self\n",
      "степеней math_tags;oper;power;common;self\n",
      "сложить math_tags;oper;add;common;self\n",
      "основания math_tags;visual;base;common;self\n",
      "степеней math_tags;oper;power;common;self\n",
      "одинаковые math_tags;pred;equal;common;self\n",
      "двойки math_tags;term;number;common;self\n",
      "перемножить math_tags;oper;mult;common;self\n",
      "показатели math_tags;visual;superscript;common;self\n",
      "сложить math_tags;oper;add;common;self\n",
      "пять math_tags;term;number;common;self\n",
      "плюс math_tags;oper;add;common;self\n",
      "три math_tags;term;number;common;self\n",
      "равно math_tags;pred;equal;common;self\n",
      "восьми math_tags;term;number;common;self\n",
      "два math_tags;term;number;common;self\n",
      "восьмой math_tags;term;number;common;self\n",
      "степени math_tags;oper;power;common;self\n",
      "делении math_tags;oper;div;common;self\n",
      "степеней math_tags;term;result;common;self\n",
      "степеней math_tags;oper;power;common;self\n",
      "основаниями math_tags;visual;base;common;self\n",
      "показатели math_tags;visual;superscript;common;self\n",
      "вычитают math_tags;oper;sub;common;self\n",
      "[Показатель делимого, из показателя делимого вычитают показатель делителя.]\n",
      "Показатель делимого, из показателя делимого вычитают показатель делителя.\n",
      "Показатель math_tags;visual;superscript;common;self\n",
      "делимого math_tags;term\n",
      "показателя math_tags;visual;superscript;common;self\n",
      "делимого math_tags;term\n",
      "вычитают math_tags;oper;sub;common;self\n",
      "показатель math_tags;visual;superscript;common;self\n",
      "делителя math_tags;term\n",
      "[Например: два в пятой степени разделим на два в третьей степени, вычитаем показатели, получаем два во второй степени и четыре.]\n",
      "Например: два в пятой степени разделим на два в третьей степени, вычитаем показатели, получаем два во второй степени и четыре.\n",
      "два math_tags;term;number;common;self\n",
      "пятой math_tags;term;number;common;self\n",
      "степени math_tags;oper;power;common;self\n",
      "разделим math_tags;oper;div;common;self\n",
      "два math_tags;term;number;common;self\n",
      "третьей math_tags;term;number;common;self\n",
      "степени math_tags;oper;power;common;self\n",
      "вычитаем math_tags;oper;sub;common;self\n",
      "показатели math_tags;visual;superscript;common;self\n",
      "получаем math_tags;comment;get;common;self\n",
      "два math_tags;term;number;common;self\n",
      "второй math_tags;term;number;common;self\n",
      "степени math_tags;oper;power;common;self\n",
      "четыре math_tags;term;number;common;self\n"
     ]
    }
   ],
   "source": [
    "for seg in segs:\n",
    "    parent_id = seg.get('parent')\n",
    "    if not parent_id:\n",
    "        text = seg.get_text()\n",
    "        sentences = list(nlp(text).sents)\n",
    "        print(sentences)\n",
    "        for sent in sentences:\n",
    "            word_counts = tuple(range(len(sent)))\n",
    "            tokens = list(sent)\n",
    "            lemmas = [t.lemma_ for t in sent]\n",
    "            lemmatized = ' '.join(lemmas)\n",
    "            sent_id = db.add_sent(text_id, sent.text, lemmatized)\n",
    "            tokens_to_write = [(sent_id, i, tokens[i].text) for i in word_counts]\n",
    "            db.add_tokens(tokens_to_write)\n",
    "            pass\n",
    "    else:\n",
    "        print(seg.get_text(), seg.get('features'))"
   ]
  },
  {
   "cell_type": "code",
   "execution_count": null,
   "id": "cef68f57",
   "metadata": {},
   "outputs": [],
   "source": []
  }
 ],
 "metadata": {
  "kernelspec": {
   "display_name": "Python 3 (ipykernel)",
   "language": "python",
   "name": "python3"
  },
  "language_info": {
   "codemirror_mode": {
    "name": "ipython",
    "version": 3
   },
   "file_extension": ".py",
   "mimetype": "text/x-python",
   "name": "python",
   "nbconvert_exporter": "python",
   "pygments_lexer": "ipython3",
   "version": "3.9.12"
  }
 },
 "nbformat": 4,
 "nbformat_minor": 5
}
